{
 "cells": [
  {
   "cell_type": "code",
   "execution_count": null,
   "id": "0",
   "metadata": {
    "papermill": {
     "duration": 56.056574,
     "end_time": "2024-06-20T09:39:32.181310",
     "exception": false,
     "start_time": "2024-06-20T09:38:36.124736",
     "status": "completed"
    },
    "tags": []
   },
   "outputs": [],
   "source": [
    "!pip uninstall apache-beam -y && pip install -U pandas polars pyarrow narwhals"
   ]
  },
  {
   "cell_type": "code",
   "execution_count": null,
   "id": "1",
   "metadata": {
    "papermill": {
     "duration": 0.710694,
     "end_time": "2024-06-20T09:39:32.905246",
     "exception": false,
     "start_time": "2024-06-20T09:39:32.194552",
     "status": "completed"
    },
    "tags": []
   },
   "outputs": [],
   "source": [
    "from typing import Any\n",
    "from datetime import date\n",
    "\n",
    "import narwhals as nw\n",
    "\n",
    "import pandas as pd\n",
    "import polars as pl\n",
    "\n",
    "pd.options.mode.copy_on_write = True\n",
    "pd.options.future.infer_string = True"
   ]
  },
  {
   "cell_type": "code",
   "execution_count": null,
   "id": "2",
   "metadata": {
    "papermill": {
     "duration": 0.024919,
     "end_time": "2024-06-20T09:39:32.942659",
     "exception": false,
     "start_time": "2024-06-20T09:39:32.917740",
     "status": "completed"
    },
    "tags": []
   },
   "outputs": [],
   "source": [
    "Q_NUM = 21\n",
    "\n",
    "IO_FUNCS = {\n",
    "    'pandas': lambda x: pd.read_parquet(x, engine='pyarrow'),\n",
    "    'pandas[pyarrow]': lambda x: pd.read_parquet(x, engine='pyarrow', dtype_backend='pyarrow'),\n",
    "    'polars[eager]': lambda x: pl.read_parquet(x),\n",
    "    'polars[lazy]': lambda x: pl.scan_parquet(x),\n",
    "}"
   ]
  },
  {
   "cell_type": "code",
   "execution_count": null,
   "id": "3",
   "metadata": {
    "papermill": {
     "duration": 0.034054,
     "end_time": "2024-06-20T09:39:32.990409",
     "exception": false,
     "start_time": "2024-06-20T09:39:32.956355",
     "status": "completed"
    },
    "tags": []
   },
   "outputs": [],
   "source": [
    "def q21(\n",
    "    lineitem_raw: Any,\n",
    "    nation_raw: Any,\n",
    "    orders_raw: Any,\n",
    "    supplier_raw: Any,\n",
    ") -> Any:\n",
    "    \n",
    "    lineitem = nw.from_native(lineitem_raw)\n",
    "    nation = nw.from_native(nation_raw)\n",
    "    orders = nw.from_native(orders_raw)\n",
    "    supplier = nw.from_native(supplier_raw)\n",
    "    \n",
    "    var1 = \"SAUDI ARABIA\"\n",
    "    \n",
    "    \n",
    "    q1 = (\n",
    "        lineitem.group_by(\"l_orderkey\")\n",
    "#         .agg(nw.col(\"l_suppkey\").len().alias(\"n_supp_by_order\"))\n",
    "        .agg(nw.len().alias(\"n_supp_by_order\"))\n",
    "        .filter(nw.col(\"n_supp_by_order\") > 1)\n",
    "        .join(\n",
    "            lineitem.filter(nw.col(\"l_receiptdate\") > nw.col(\"l_commitdate\")),\n",
    "#             on=\"l_orderkey\",\n",
    "            left_on=\"l_orderkey\", right_on=\"l_orderkey\",\n",
    "        )\n",
    "    )\n",
    "\n",
    "    q_final = (\n",
    "        q1.group_by(\"l_orderkey\")\n",
    "#         .agg(nw.col(\"l_suppkey\").len().alias(\"n_supp_by_order\"))\n",
    "        .agg(nw.len().alias(\"n_supp_by_order\"))\n",
    "        .join(q1, left_on=\"l_orderkey\", right_on=\"l_orderkey\"\n",
    "              #on=\"l_orderkey\"\n",
    "             )\n",
    "        .join(supplier, left_on=\"l_suppkey\", right_on=\"s_suppkey\")\n",
    "        .join(nation, left_on=\"s_nationkey\", right_on=\"n_nationkey\")\n",
    "        .join(orders, left_on=\"l_orderkey\", right_on=\"o_orderkey\")\n",
    "        .filter(nw.col(\"n_supp_by_order\") == 1)\n",
    "        .filter(nw.col(\"n_name\") == var1)\n",
    "        .filter(nw.col(\"o_orderstatus\") == \"F\")\n",
    "        .group_by(\"s_name\")\n",
    "        .agg(nw.len().alias(\"numwait\"))\n",
    "        .sort(by=[\"numwait\", \"s_name\"], descending=[True, False])\n",
    "        .head(100)\n",
    "    )\n",
    "    return nw.to_native(q_final)"
   ]
  },
  {
   "cell_type": "code",
   "execution_count": null,
   "id": "4",
   "metadata": {
    "papermill": {
     "duration": 0.023895,
     "end_time": "2024-06-20T09:39:33.027127",
     "exception": false,
     "start_time": "2024-06-20T09:39:33.003232",
     "status": "completed"
    },
    "tags": []
   },
   "outputs": [],
   "source": [
    "dir_ = \"/kaggle/input/tpc-h-data-parquet-s-2/\"\n",
    "\n",
    "lineitem = dir_ + 'lineitem.parquet'\n",
    "nation = dir_ + 'nation.parquet'\n",
    "orders = dir_ + 'orders.parquet'\n",
    "supplier = dir_ + 'supplier.parquet'"
   ]
  },
  {
   "cell_type": "code",
   "execution_count": null,
   "id": "5",
   "metadata": {
    "papermill": {
     "duration": 0.023307,
     "end_time": "2024-06-20T09:39:33.064042",
     "exception": false,
     "start_time": "2024-06-20T09:39:33.040735",
     "status": "completed"
    },
    "tags": []
   },
   "outputs": [],
   "source": [
    "results = {}"
   ]
  },
  {
   "cell_type": "markdown",
   "id": "6",
   "metadata": {
    "papermill": {
     "duration": 0.013315,
     "end_time": "2024-06-20T09:39:33.090039",
     "exception": false,
     "start_time": "2024-06-20T09:39:33.076724",
     "status": "completed"
    },
    "tags": []
   },
   "source": [
    "## pandas via Narwhals"
   ]
  },
  {
   "cell_type": "code",
   "execution_count": null,
   "id": "7",
   "metadata": {
    "papermill": {
     "duration": 153.948657,
     "end_time": "2024-06-20T09:42:07.051286",
     "exception": false,
     "start_time": "2024-06-20T09:39:33.102629",
     "status": "completed"
    },
    "tags": []
   },
   "outputs": [],
   "source": [
    "tool = 'pandas'\n",
    "fn = IO_FUNCS[tool]\n",
    "\n",
    "lineitem_raw, nation_raw, orders_raw, supplier_raw = fn(lineitem), fn(nation), fn(orders), fn(supplier)\n",
    "\n",
    "timings = %timeit -o q21(lineitem_raw, nation_raw, orders_raw, supplier_raw)\n",
    "results[tool] = timings.all_runs"
   ]
  },
  {
   "cell_type": "markdown",
   "id": "8",
   "metadata": {
    "papermill": {
     "duration": 0.012282,
     "end_time": "2024-06-20T09:42:07.077095",
     "exception": false,
     "start_time": "2024-06-20T09:42:07.064813",
     "status": "completed"
    },
    "tags": []
   },
   "source": [
    "## pandas, pyarrow dtypes, via Narwhals"
   ]
  },
  {
   "cell_type": "code",
   "execution_count": null,
   "id": "9",
   "metadata": {
    "papermill": {
     "duration": 138.36459,
     "end_time": "2024-06-20T09:44:25.454188",
     "exception": false,
     "start_time": "2024-06-20T09:42:07.089598",
     "status": "completed"
    },
    "tags": []
   },
   "outputs": [],
   "source": [
    "tool = 'pandas[pyarrow]'\n",
    "fn = IO_FUNCS[tool]\n",
    "lineitem_raw, nation_raw, orders_raw, supplier_raw = fn(lineitem), fn(nation), fn(orders), fn(supplier)\n",
    "\n",
    "timings = %timeit -o q21(lineitem_raw, nation_raw, orders_raw, supplier_raw)\n",
    "results[tool] = timings.all_runs"
   ]
  },
  {
   "cell_type": "markdown",
   "id": "10",
   "metadata": {
    "papermill": {
     "duration": 0.012075,
     "end_time": "2024-06-20T09:44:25.478725",
     "exception": false,
     "start_time": "2024-06-20T09:44:25.466650",
     "status": "completed"
    },
    "tags": []
   },
   "source": [
    "## Polars read_parquet"
   ]
  },
  {
   "cell_type": "code",
   "execution_count": null,
   "id": "11",
   "metadata": {
    "papermill": {
     "duration": 89.487638,
     "end_time": "2024-06-20T09:45:54.978758",
     "exception": false,
     "start_time": "2024-06-20T09:44:25.491120",
     "status": "completed"
    },
    "tags": []
   },
   "outputs": [],
   "source": [
    "tool = 'polars[eager]'\n",
    "fn = IO_FUNCS[tool]\n",
    "\n",
    "lineitem_raw, nation_raw, orders_raw, supplier_raw = fn(lineitem), fn(nation), fn(orders), fn(supplier)\n",
    "timings = %timeit -o q21(lineitem_raw, nation_raw, orders_raw, supplier_raw)\n",
    "results[tool] = timings.all_runs"
   ]
  },
  {
   "cell_type": "markdown",
   "id": "12",
   "metadata": {
    "papermill": {
     "duration": 0.011745,
     "end_time": "2024-06-20T09:45:55.002962",
     "exception": false,
     "start_time": "2024-06-20T09:45:54.991217",
     "status": "completed"
    },
    "tags": []
   },
   "source": [
    "## Polars scan_parquet"
   ]
  },
  {
   "cell_type": "code",
   "execution_count": null,
   "id": "13",
   "metadata": {
    "papermill": {
     "duration": 23.550631,
     "end_time": "2024-06-20T09:46:18.566271",
     "exception": false,
     "start_time": "2024-06-20T09:45:55.015640",
     "status": "completed"
    },
    "tags": []
   },
   "outputs": [],
   "source": [
    "tool = 'polars[lazy]'\n",
    "fn = IO_FUNCS[tool]\n",
    "\n",
    "lineitem_raw, nation_raw, orders_raw, supplier_raw = fn(lineitem), fn(nation), fn(orders), fn(supplier)\n",
    "timings = %timeit -o q21(lineitem_raw, nation_raw, orders_raw, supplier_raw).collect()\n",
    "results[tool] = timings.all_runs"
   ]
  },
  {
   "cell_type": "markdown",
   "id": "14",
   "metadata": {
    "papermill": {
     "duration": 0.012321,
     "end_time": "2024-06-20T09:46:18.591255",
     "exception": false,
     "start_time": "2024-06-20T09:46:18.578934",
     "status": "completed"
    },
    "tags": []
   },
   "source": [
    "## Save"
   ]
  },
  {
   "cell_type": "code",
   "execution_count": null,
   "id": "15",
   "metadata": {
    "papermill": {
     "duration": 0.023933,
     "end_time": "2024-06-20T09:46:18.627709",
     "exception": false,
     "start_time": "2024-06-20T09:46:18.603776",
     "status": "completed"
    },
    "tags": []
   },
   "outputs": [],
   "source": [
    "import json\n",
    "with open('results.json', 'w') as fd:\n",
    "    json.dump(results, fd)"
   ]
  },
  {
   "cell_type": "code",
   "execution_count": null,
   "id": "16",
   "metadata": {
    "papermill": {
     "duration": 0.02616,
     "end_time": "2024-06-20T09:46:18.666732",
     "exception": false,
     "start_time": "2024-06-20T09:46:18.640572",
     "status": "completed"
    },
    "tags": []
   },
   "outputs": [],
   "source": [
    "from pprint import pprint\n",
    "\n",
    "pprint(results)"
   ]
  }
 ],
 "metadata": {
  "kaggle": {
   "accelerator": "none",
   "dataSources": [
    {
     "sourceId": 167796934,
     "sourceType": "kernelVersion"
    }
   ],
   "dockerImageVersionId": 30673,
   "isGpuEnabled": false,
   "isInternetEnabled": true,
   "language": "python",
   "sourceType": "notebook"
  },
  "kernelspec": {
   "display_name": "Python 3",
   "language": "python",
   "name": "python3"
  },
  "language_info": {
   "codemirror_mode": {
    "name": "ipython",
    "version": 3
   },
   "file_extension": ".py",
   "mimetype": "text/x-python",
   "name": "python",
   "nbconvert_exporter": "python",
   "pygments_lexer": "ipython3",
   "version": "3.10.13"
  },
  "papermill": {
   "default_parameters": {},
   "duration": 466.953302,
   "end_time": "2024-06-20T09:46:19.507794",
   "environment_variables": {},
   "exception": null,
   "input_path": "__notebook__.ipynb",
   "output_path": "__notebook__.ipynb",
   "parameters": {},
   "start_time": "2024-06-20T09:38:32.554492",
   "version": "2.5.0"
  }
 },
 "nbformat": 4,
 "nbformat_minor": 5
}
