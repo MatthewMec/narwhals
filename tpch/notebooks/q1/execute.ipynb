{
 "cells": [
  {
   "cell_type": "code",
   "execution_count": null,
   "id": "0",
   "metadata": {
    "papermill": {
     "duration": 33.390992,
     "end_time": "2024-03-22T17:24:15.601719",
     "exception": false,
     "start_time": "2024-03-22T17:23:42.210727",
     "status": "completed"
    },
    "tags": []
   },
   "outputs": [],
   "source": [
    "!pip uninstall apache-beam -y && pip install -U pandas polars pyarrow narwhals>=0.9.5 ibis-framework"
   ]
  },
  {
   "cell_type": "code",
   "execution_count": null,
   "id": "1",
   "metadata": {
    "papermill": {
     "duration": 0.907754,
     "end_time": "2024-03-22T17:24:39.053873",
     "exception": false,
     "start_time": "2024-03-22T17:24:38.146119",
     "status": "completed"
    },
    "tags": []
   },
   "outputs": [],
   "source": [
    "import pandas as pd\n",
    "import polars as pl\n",
    "\n",
    "pd.options.mode.copy_on_write = True\n",
    "pd.options.future.infer_string = True"
   ]
  },
  {
   "cell_type": "code",
   "execution_count": null,
   "id": "2",
   "metadata": {},
   "outputs": [],
   "source": [
    "from datetime import date\n",
    "\n",
    "def q1_pandas_native(lineitem):\n",
    "    VAR1 = date(1998, 9, 2)\n",
    "\n",
    "    sel = lineitem.l_shipdate <= VAR1\n",
    "    lineitem_filtered = lineitem[sel]\n",
    "\n",
    "    # This is lenient towards pandas as normally an optimizer should decide\n",
    "    # that this could be computed before the groupby aggregation.\n",
    "    # Other implementations don't enjoy this benefit.\n",
    "    lineitem_filtered[\"disc_price\"] = lineitem_filtered.l_extendedprice * (\n",
    "        1 - lineitem_filtered.l_discount\n",
    "    )\n",
    "    lineitem_filtered[\"charge\"] = (\n",
    "        lineitem_filtered.l_extendedprice\n",
    "        * (1 - lineitem_filtered.l_discount)\n",
    "        * (1 + lineitem_filtered.l_tax)\n",
    "    )\n",
    "    gb = lineitem_filtered.groupby([\"l_returnflag\", \"l_linestatus\"], as_index=False)\n",
    "\n",
    "    total = gb.agg(\n",
    "        sum_qty=pd.NamedAgg(column=\"l_quantity\", aggfunc=\"sum\"),\n",
    "        sum_base_price=pd.NamedAgg(column=\"l_extendedprice\", aggfunc=\"sum\"),\n",
    "        sum_disc_price=pd.NamedAgg(column=\"disc_price\", aggfunc=\"sum\"),\n",
    "        sum_charge=pd.NamedAgg(column=\"charge\", aggfunc=\"sum\"),\n",
    "        avg_qty=pd.NamedAgg(column=\"l_quantity\", aggfunc=\"mean\"),\n",
    "        avg_price=pd.NamedAgg(column=\"l_extendedprice\", aggfunc=\"mean\"),\n",
    "        avg_disc=pd.NamedAgg(column=\"l_discount\", aggfunc=\"mean\"),\n",
    "        count_order=pd.NamedAgg(column=\"l_orderkey\", aggfunc=\"size\"),\n",
    "    )\n",
    "\n",
    "    result_df = total.sort_values([\"l_returnflag\", \"l_linestatus\"])\n",
    "\n",
    "    return result_df  # type: ignore[no-any-return]"
   ]
  },
  {
   "cell_type": "code",
   "execution_count": null,
   "id": "3",
   "metadata": {
    "papermill": {
     "duration": 0.021725,
     "end_time": "2024-03-22T17:24:39.080999",
     "exception": false,
     "start_time": "2024-03-22T17:24:39.059274",
     "status": "completed"
    },
    "tags": []
   },
   "outputs": [],
   "source": [
    "from typing import Any\n",
    "from datetime import datetime\n",
    "import narwhals as nw\n",
    "\n",
    "@nw.narwhalify\n",
    "def q1(lineitem_ds: Any) -> Any:\n",
    "    var_1 = datetime(1998, 9, 2)\n",
    "    return (\n",
    "        lineitem_ds.filter(nw.col(\"l_shipdate\") <= var_1)\n",
    "        .with_columns(\n",
    "            disc_price=nw.col(\"l_extendedprice\") * (1 - nw.col(\"l_discount\")),\n",
    "            charge=(\n",
    "                nw.col(\"l_extendedprice\")\n",
    "                * (1.0 - nw.col(\"l_discount\"))\n",
    "                * (1.0 + nw.col(\"l_tax\"))\n",
    "            ),\n",
    "        )\n",
    "        .group_by([\"l_returnflag\", \"l_linestatus\"])\n",
    "        .agg(\n",
    "            [\n",
    "                nw.sum(\"l_quantity\").alias(\"sum_qty\"),\n",
    "                nw.sum(\"l_extendedprice\").alias(\"sum_base_price\"),\n",
    "                nw.sum(\"disc_price\").alias(\"sum_disc_price\"),\n",
    "                nw.col(\"charge\").sum().alias(\"sum_charge\"),\n",
    "                nw.mean(\"l_quantity\").alias(\"avg_qty\"),\n",
    "                nw.mean(\"l_extendedprice\").alias(\"avg_price\"),\n",
    "                nw.mean(\"l_discount\").alias(\"avg_disc\"),\n",
    "                nw.len().alias(\"count_order\"),\n",
    "            ],\n",
    "        )\n",
    "        .sort([\"l_returnflag\", \"l_linestatus\"])\n",
    "    )"
   ]
  },
  {
   "cell_type": "code",
   "execution_count": null,
   "id": "4",
   "metadata": {},
   "outputs": [],
   "source": [
    "def q1_ibis(lineitem: Any, *, tool):\n",
    "    var1 = datetime(1998, 9, 2)\n",
    "    lineitem = lineitem.filter(lineitem[\"l_shipdate\"] <= var1)\n",
    "    lineitem = lineitem.mutate(\n",
    "        disc_price=lineitem[\"l_extendedprice\"] * (1 - lineitem[\"l_discount\"]),\n",
    "        charge=(\n",
    "            lineitem[\"l_extendedprice\"]\n",
    "            * (1.0 - lineitem[\"l_discount\"])\n",
    "            * (1.0 + lineitem[\"l_tax\"])\n",
    "        ),\n",
    "    )\n",
    "    q_final = (\n",
    "        lineitem\n",
    "        .group_by([\"l_returnflag\", \"l_linestatus\"])\n",
    "        .aggregate(\n",
    "            sum_qty=lineitem[\"l_quantity\"].sum(),\n",
    "            sum_base_price=lineitem[\"l_extendedprice\"].sum(),\n",
    "            sum_disc_price=(lineitem['disc_price'].sum()),\n",
    "            sum_charge=(lineitem['charge'].sum()),\n",
    "            avg_qty=lineitem[\"l_quantity\"].mean(),\n",
    "            avg_price=lineitem[\"l_extendedprice\"].mean(),\n",
    "            avg_disc=lineitem[\"l_discount\"].mean(),\n",
    "            count_order=lambda lineitem: lineitem.count(),\n",
    "        )\n",
    "        .order_by([\"l_returnflag\", \"l_linestatus\"])\n",
    "    )\n",
    "    if tool == 'pandas':\n",
    "        return q_final.to_pandas()\n",
    "    if tool == 'polars':\n",
    "        return q_final.to_polars()\n",
    "    raise ValueError(\"expected pandas or polars\")"
   ]
  },
  {
   "cell_type": "code",
   "execution_count": null,
   "id": "5",
   "metadata": {
    "papermill": {
     "duration": 0.013325,
     "end_time": "2024-03-22T17:24:39.099766",
     "exception": false,
     "start_time": "2024-03-22T17:24:39.086441",
     "status": "completed"
    },
    "tags": []
   },
   "outputs": [],
   "source": [
    "dir_ = \"/kaggle/input/tpc-h-data-parquet-s-2/\"\n",
    "region = dir_ + 'region.parquet'\n",
    "nation = dir_ + 'nation.parquet'\n",
    "customer = dir_ + 'customer.parquet'\n",
    "lineitem = dir_ + 'lineitem.parquet'\n",
    "orders = dir_ + 'orders.parquet'\n",
    "supplier = dir_ + 'supplier.parquet'\n",
    "part = dir_ + 'part.parquet'\n",
    "partsupp = dir_ + 'partsupp.parquet'"
   ]
  },
  {
   "cell_type": "code",
   "execution_count": null,
   "id": "6",
   "metadata": {
    "papermill": {
     "duration": 0.014284,
     "end_time": "2024-03-22T17:24:39.119737",
     "exception": false,
     "start_time": "2024-03-22T17:24:39.105453",
     "status": "completed"
    },
    "tags": []
   },
   "outputs": [],
   "source": [
    "import ibis\n",
    "\n",
    "con_pd = ibis.pandas.connect()\n",
    "con_pl = ibis.polars.connect()\n",
    "\n",
    "IO_FUNCS = {\n",
    "    'pandas': lambda x: pd.read_parquet(x, engine='pyarrow'),\n",
    "    'pandas[pyarrow]': lambda x: pd.read_parquet(x, engine='pyarrow', dtype_backend='pyarrow'),\n",
    "    'pandas[pyarrow][ibis]': lambda x: con_pd.read_parquet(x, engine='pyarrow', dtype_backend='pyarrow'),\n",
    "    'polars[eager]': lambda x: pl.read_parquet(x),\n",
    "    'polars[lazy]': lambda x: pl.scan_parquet(x),\n",
    "    'polars[lazy][ibis]': lambda x: con_pl.read_parquet(x),\n",
    "}"
   ]
  },
  {
   "cell_type": "code",
   "execution_count": null,
   "id": "7",
   "metadata": {},
   "outputs": [],
   "source": [
    "results = {}"
   ]
  },
  {
   "cell_type": "markdown",
   "id": "8",
   "metadata": {},
   "source": [
    "## pandas, pyarrow dtypes, ibis"
   ]
  },
  {
   "cell_type": "code",
   "execution_count": null,
   "id": "9",
   "metadata": {},
   "outputs": [],
   "source": [
    "tool = 'pandas[pyarrow][ibis]'\n",
    "fn = IO_FUNCS[tool]\n",
    "timings = %timeit -o q1_ibis(fn(lineitem), tool='pandas')\n",
    "results[tool] = timings.all_runs"
   ]
  },
  {
   "cell_type": "markdown",
   "id": "10",
   "metadata": {},
   "source": [
    "## pandas, pyarrow dtypes, native"
   ]
  },
  {
   "cell_type": "code",
   "execution_count": null,
   "id": "11",
   "metadata": {},
   "outputs": [],
   "source": [
    "tool = 'pandas[pyarrow]'\n",
    "fn = IO_FUNCS[tool]\n",
    "timings = %timeit -o q1_pandas_native(lineitem=fn(lineitem))\n",
    "results[tool+'[native]'] = timings.all_runs"
   ]
  },
  {
   "cell_type": "markdown",
   "id": "12",
   "metadata": {
    "papermill": {
     "duration": 0.005113,
     "end_time": "2024-03-22T17:24:39.130472",
     "exception": false,
     "start_time": "2024-03-22T17:24:39.125359",
     "status": "completed"
    },
    "tags": []
   },
   "source": [
    "## pandas via Narwhals"
   ]
  },
  {
   "cell_type": "code",
   "execution_count": null,
   "id": "13",
   "metadata": {
    "papermill": {
     "duration": 196.786925,
     "end_time": "2024-03-22T17:27:55.922832",
     "exception": false,
     "start_time": "2024-03-22T17:24:39.135907",
     "status": "completed"
    },
    "tags": []
   },
   "outputs": [],
   "source": [
    "tool = 'pandas'\n",
    "fn = IO_FUNCS[tool]\n",
    "timings = %timeit -o q1(lineitem_ds=fn(lineitem))\n",
    "results[tool] = timings.all_runs"
   ]
  },
  {
   "cell_type": "markdown",
   "id": "14",
   "metadata": {
    "papermill": {
     "duration": 0.005184,
     "end_time": "2024-03-22T17:27:55.933407",
     "exception": false,
     "start_time": "2024-03-22T17:27:55.928223",
     "status": "completed"
    },
    "tags": []
   },
   "source": [
    "## pandas, pyarrow dtypes, via Narwhals"
   ]
  },
  {
   "cell_type": "code",
   "execution_count": null,
   "id": "15",
   "metadata": {
    "papermill": {
     "duration": 158.748353,
     "end_time": "2024-03-22T17:30:34.688289",
     "exception": false,
     "start_time": "2024-03-22T17:27:55.939936",
     "status": "completed"
    },
    "tags": []
   },
   "outputs": [],
   "source": [
    "tool = 'pandas[pyarrow]'\n",
    "fn = IO_FUNCS[tool]\n",
    "timings = %timeit -o q1(fn(lineitem))\n",
    "results[tool] = timings.all_runs"
   ]
  },
  {
   "cell_type": "markdown",
   "id": "16",
   "metadata": {
    "papermill": {
     "duration": 0.005773,
     "end_time": "2024-03-22T17:30:34.700300",
     "exception": false,
     "start_time": "2024-03-22T17:30:34.694527",
     "status": "completed"
    },
    "tags": []
   },
   "source": [
    "## Polars read_parquet"
   ]
  },
  {
   "cell_type": "code",
   "execution_count": null,
   "id": "17",
   "metadata": {
    "papermill": {
     "duration": 37.821116,
     "end_time": "2024-03-22T17:31:12.527466",
     "exception": false,
     "start_time": "2024-03-22T17:30:34.706350",
     "status": "completed"
    },
    "tags": []
   },
   "outputs": [],
   "source": [
    "tool = 'polars[eager]'\n",
    "fn = IO_FUNCS[tool]\n",
    "timings = %timeit -o q1(fn(lineitem))\n",
    "results[tool] = timings.all_runs"
   ]
  },
  {
   "cell_type": "markdown",
   "id": "18",
   "metadata": {
    "papermill": {
     "duration": 0.005515,
     "end_time": "2024-03-22T17:31:12.539068",
     "exception": false,
     "start_time": "2024-03-22T17:31:12.533553",
     "status": "completed"
    },
    "tags": []
   },
   "source": [
    "## Polars scan_parquet"
   ]
  },
  {
   "cell_type": "code",
   "execution_count": null,
   "id": "19",
   "metadata": {
    "papermill": {
     "duration": 4.800698,
     "end_time": "2024-03-22T17:31:17.346813",
     "exception": false,
     "start_time": "2024-03-22T17:31:12.546115",
     "status": "completed"
    },
    "tags": []
   },
   "outputs": [],
   "source": [
    "tool = 'polars[lazy]'\n",
    "fn = IO_FUNCS[tool]\n",
    "timings = %timeit -o q1(fn(lineitem)).collect()\n",
    "results[tool] = timings.all_runs"
   ]
  },
  {
   "cell_type": "markdown",
   "id": "20",
   "metadata": {},
   "source": [
    "## Polars scan_parquet ibis"
   ]
  },
  {
   "cell_type": "code",
   "execution_count": null,
   "id": "21",
   "metadata": {},
   "outputs": [],
   "source": [
    "tool = 'polars[lazy][ibis]'\n",
    "fn = IO_FUNCS[tool]\n",
    "timings = %timeit -o q1_ibis(fn(lineitem), tool='polars')\n",
    "results[tool] = timings.all_runs"
   ]
  },
  {
   "cell_type": "markdown",
   "id": "22",
   "metadata": {},
   "source": [
    "## Save"
   ]
  },
  {
   "cell_type": "code",
   "execution_count": null,
   "id": "23",
   "metadata": {},
   "outputs": [],
   "source": [
    "import json\n",
    "with open('results.json', 'w') as fd:\n",
    "    json.dump(results, fd)\n"
   ]
  }
 ],
 "metadata": {
  "kaggle": {
   "accelerator": "none",
   "dataSources": [
    {
     "sourceId": 167796716,
     "sourceType": "kernelVersion"
    },
    {
     "sourceId": 167796934,
     "sourceType": "kernelVersion"
    },
    {
     "sourceId": 167796952,
     "sourceType": "kernelVersion"
    },
    {
     "sourceId": 167796969,
     "sourceType": "kernelVersion"
    }
   ],
   "isGpuEnabled": false,
   "isInternetEnabled": true,
   "language": "python",
   "sourceType": "notebook"
  },
  "kernelspec": {
   "display_name": "Python 3",
   "language": "python",
   "name": "python3"
  },
  "language_info": {
   "codemirror_mode": {
    "name": "ipython",
    "version": 3
   },
   "file_extension": ".py",
   "mimetype": "text/x-python",
   "name": "python",
   "nbconvert_exporter": "python",
   "pygments_lexer": "ipython3",
   "version": "3.10.13"
  },
  "papermill": {
   "default_parameters": {},
   "duration": 458.423327,
   "end_time": "2024-03-22T17:31:18.077306",
   "environment_variables": {},
   "exception": null,
   "input_path": "__notebook__.ipynb",
   "output_path": "__notebook__.ipynb",
   "parameters": {},
   "start_time": "2024-03-22T17:23:39.653979",
   "version": "2.5.0"
  }
 },
 "nbformat": 4,
 "nbformat_minor": 5
}
