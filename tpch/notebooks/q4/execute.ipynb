{
 "cells": [
  {
   "cell_type": "code",
   "execution_count": null,
   "id": "0",
   "metadata": {
    "papermill": {
     "duration": 33.390992,
     "end_time": "2024-03-22T17:24:15.601719",
     "exception": false,
     "start_time": "2024-03-22T17:23:42.210727",
     "status": "completed"
    },
    "tags": []
   },
   "outputs": [],
   "source": [
    "!pip uninstall apache-beam -y && pip install -U pandas polars pyarrow narwhals>=0.9.5 ibis-framework "
   ]
  },
  {
   "cell_type": "code",
   "execution_count": null,
   "id": "1",
   "metadata": {
    "papermill": {
     "duration": 0.907754,
     "end_time": "2024-03-22T17:24:39.053873",
     "exception": false,
     "start_time": "2024-03-22T17:24:38.146119",
     "status": "completed"
    },
    "tags": []
   },
   "outputs": [],
   "source": [
    "import pandas as pd\n",
    "import polars as pl\n",
    "\n",
    "pd.options.mode.copy_on_write = True\n",
    "pd.options.future.infer_string = True"
   ]
  },
  {
   "cell_type": "code",
   "execution_count": null,
   "id": "2",
   "metadata": {},
   "outputs": [],
   "source": [
    "from datetime import date\n",
    "from typing import Any\n",
    "\n",
    "def q4_pandas_native(\n",
    "    line_item_ds: Any,\n",
    "    orders_ds: Any,\n",
    "):\n",
    "    var1 = date(1993, 7, 1)\n",
    "    var2 = date(1993, 10, 1)\n",
    "\n",
    "    jn = line_item_ds.merge(orders_ds, left_on=\"l_orderkey\", right_on=\"o_orderkey\")\n",
    "\n",
    "    jn = jn[\n",
    "        (jn[\"o_orderdate\"] < var2)\n",
    "        & (jn[\"o_orderdate\"] >= var1)\n",
    "        & (jn[\"l_commitdate\"] < jn[\"l_receiptdate\"])\n",
    "    ]\n",
    "\n",
    "    jn = jn.drop_duplicates(subset=[\"o_orderpriority\", \"l_orderkey\"])\n",
    "\n",
    "    gb = jn.groupby(\"o_orderpriority\", as_index=False)\n",
    "    agg = gb.agg(order_count=pd.NamedAgg(column=\"o_orderkey\", aggfunc=\"count\"))\n",
    "\n",
    "    result_df = agg.sort_values([\"o_orderpriority\"])\n",
    "\n",
    "    return result_df  # type: ignore[no-any-return]"
   ]
  },
  {
   "cell_type": "code",
   "execution_count": null,
   "id": "3",
   "metadata": {
    "papermill": {
     "duration": 0.021725,
     "end_time": "2024-03-22T17:24:39.080999",
     "exception": false,
     "start_time": "2024-03-22T17:24:39.059274",
     "status": "completed"
    },
    "tags": []
   },
   "outputs": [],
   "source": [
    "from typing import Any\n",
    "from datetime import datetime\n",
    "import narwhals as nw\n",
    "\n",
    "def q4(\n",
    "    lineitem_ds_raw: Any,\n",
    "    orders_ds_raw: Any,\n",
    ") -> Any:\n",
    "    var_1 = datetime(1993, 7, 1)\n",
    "    var_2 = datetime(1993, 10, 1)\n",
    "\n",
    "    line_item_ds = nw.from_native(lineitem_ds_raw)\n",
    "    orders_ds = nw.from_native(orders_ds_raw)\n",
    "\n",
    "    result = (\n",
    "        line_item_ds.join(orders_ds, left_on=\"l_orderkey\", right_on=\"o_orderkey\")\n",
    "        .filter(\n",
    "            nw.col(\"o_orderdate\").is_between(var_1, var_2, closed=\"left\"),\n",
    "            nw.col(\"l_commitdate\") < nw.col(\"l_receiptdate\"),\n",
    "        ).unique(subset=[\"o_orderpriority\", \"l_orderkey\"])\n",
    "        .group_by(\"o_orderpriority\")\n",
    "        .agg(nw.len().alias(\"order_count\"))\n",
    "        .sort(by=\"o_orderpriority\")\n",
    "        .with_columns(nw.col(\"order_count\").cast(nw.Int64))\n",
    "    )\n",
    "\n",
    "    return nw.to_native(result)"
   ]
  },
  {
   "cell_type": "code",
   "execution_count": null,
   "id": "4",
   "metadata": {},
   "outputs": [],
   "source": [
    "from typing import Any\n",
    "from datetime import datetime\n",
    "import ibis\n",
    "\n",
    "def q4_ibis(\n",
    "    lineitem: Any,\n",
    "    orders: Any,\n",
    "    *,\n",
    "    tool: str\n",
    ") -> Any:\n",
    "    var1 = datetime(1993, 7, 1)\n",
    "    var2 = datetime(1993, 10, 1)\n",
    "\n",
    "    q_final = (\n",
    "        lineitem.join(orders, lineitem[\"l_orderkey\"] == orders[\"o_orderkey\"])\n",
    "        .filter((orders[\"o_orderdate\"] >= var1) & (orders[\"o_orderdate\"] < var2))\n",
    "        .filter(lineitem[\"l_commitdate\"] < lineitem[\"l_receiptdate\"])\n",
    "        .distinct(on=[\"o_orderpriority\", \"l_orderkey\"])\n",
    "        .group_by(\"o_orderpriority\")\n",
    "        .agg(order_count=ibis._.count())\n",
    "        .order_by(\"o_orderpriority\")\n",
    "    )\n",
    "    if tool == 'pandas':\n",
    "        return q_final.to_pandas()\n",
    "    if tool == 'polars':\n",
    "        return q_final.to_polars()\n",
    "    raise ValueError(\"expected pandas or polars\")"
   ]
  },
  {
   "cell_type": "code",
   "execution_count": null,
   "id": "5",
   "metadata": {
    "papermill": {
     "duration": 0.013325,
     "end_time": "2024-03-22T17:24:39.099766",
     "exception": false,
     "start_time": "2024-03-22T17:24:39.086441",
     "status": "completed"
    },
    "tags": []
   },
   "outputs": [],
   "source": [
    "dir_ = \"/kaggle/input/tpc-h-data-parquet-s-2/\"\n",
    "region = dir_ + 'region.parquet'\n",
    "nation = dir_ + 'nation.parquet'\n",
    "customer = dir_ + 'customer.parquet'\n",
    "lineitem = dir_ + 'lineitem.parquet'\n",
    "orders = dir_ + 'orders.parquet'\n",
    "supplier = dir_ + 'supplier.parquet'\n",
    "part = dir_ + 'part.parquet'\n",
    "partsupp = dir_ + 'partsupp.parquet'"
   ]
  },
  {
   "cell_type": "code",
   "execution_count": null,
   "id": "6",
   "metadata": {
    "papermill": {
     "duration": 0.014284,
     "end_time": "2024-03-22T17:24:39.119737",
     "exception": false,
     "start_time": "2024-03-22T17:24:39.105453",
     "status": "completed"
    },
    "tags": []
   },
   "outputs": [],
   "source": [
    "import ibis\n",
    "\n",
    "con_pd = ibis.pandas.connect()\n",
    "con_pl = ibis.polars.connect()\n",
    "\n",
    "IO_FUNCS = {\n",
    "    'pandas': lambda x: pd.read_parquet(x, engine='pyarrow'),\n",
    "    'pandas[pyarrow]': lambda x: pd.read_parquet(x, engine='pyarrow', dtype_backend='pyarrow'),\n",
    "    'pandas[pyarrow][ibis]': lambda x: con_pd.read_parquet(x, engine='pyarrow', dtype_backend='pyarrow'),\n",
    "    'polars[eager]': lambda x: pl.read_parquet(x),\n",
    "    'polars[lazy]': lambda x: pl.scan_parquet(x),\n",
    "    'polars[lazy][ibis]': lambda x: con_pl.read_parquet(x),\n",
    "}"
   ]
  },
  {
   "cell_type": "code",
   "execution_count": null,
   "id": "7",
   "metadata": {},
   "outputs": [],
   "source": [
    "results = {}"
   ]
  },
  {
   "cell_type": "markdown",
   "id": "8",
   "metadata": {},
   "source": [
    "## polars, lazy, via ibis"
   ]
  },
  {
   "cell_type": "code",
   "execution_count": null,
   "id": "9",
   "metadata": {},
   "outputs": [],
   "source": [
    "tool = 'polars[lazy][ibis]'\n",
    "fn = IO_FUNCS[tool]\n",
    "timings = %timeit -o q4_ibis(fn(lineitem), fn(orders), tool='polars')\n",
    "results[tool] = timings.all_runs"
   ]
  },
  {
   "cell_type": "markdown",
   "id": "10",
   "metadata": {},
   "source": [
    "## pandas, pyarrow dtype, via Narwhals"
   ]
  },
  {
   "cell_type": "code",
   "execution_count": null,
   "id": "11",
   "metadata": {},
   "outputs": [],
   "source": [
    "tool = 'pandas[pyarrow]'\n",
    "fn = IO_FUNCS[tool]\n",
    "timings = %timeit -o q4_pandas_native(fn(lineitem), fn(orders))\n",
    "results[tool+'[native]'] = timings.all_runs"
   ]
  },
  {
   "cell_type": "markdown",
   "id": "12",
   "metadata": {
    "papermill": {
     "duration": 0.005113,
     "end_time": "2024-03-22T17:24:39.130472",
     "exception": false,
     "start_time": "2024-03-22T17:24:39.125359",
     "status": "completed"
    },
    "tags": []
   },
   "source": [
    "## pandas via Narwhals"
   ]
  },
  {
   "cell_type": "code",
   "execution_count": null,
   "id": "13",
   "metadata": {
    "papermill": {
     "duration": 196.786925,
     "end_time": "2024-03-22T17:27:55.922832",
     "exception": false,
     "start_time": "2024-03-22T17:24:39.135907",
     "status": "completed"
    },
    "tags": []
   },
   "outputs": [],
   "source": [
    "tool = 'pandas'\n",
    "fn = IO_FUNCS[tool]\n",
    "timings = %timeit -o q4(fn(lineitem), fn(orders))\n",
    "results[tool] = timings.all_runs"
   ]
  },
  {
   "cell_type": "markdown",
   "id": "14",
   "metadata": {
    "papermill": {
     "duration": 0.005184,
     "end_time": "2024-03-22T17:27:55.933407",
     "exception": false,
     "start_time": "2024-03-22T17:27:55.928223",
     "status": "completed"
    },
    "tags": []
   },
   "source": [
    "## pandas, pyarrow dtypes, via Narwhals"
   ]
  },
  {
   "cell_type": "code",
   "execution_count": null,
   "id": "15",
   "metadata": {
    "papermill": {
     "duration": 158.748353,
     "end_time": "2024-03-22T17:30:34.688289",
     "exception": false,
     "start_time": "2024-03-22T17:27:55.939936",
     "status": "completed"
    },
    "tags": []
   },
   "outputs": [],
   "source": [
    "tool = 'pandas[pyarrow]'\n",
    "fn = IO_FUNCS[tool]\n",
    "timings = %timeit -o q4(fn(lineitem), fn(orders))\n",
    "results[tool] = timings.all_runs"
   ]
  },
  {
   "cell_type": "markdown",
   "id": "16",
   "metadata": {
    "papermill": {
     "duration": 0.005773,
     "end_time": "2024-03-22T17:30:34.700300",
     "exception": false,
     "start_time": "2024-03-22T17:30:34.694527",
     "status": "completed"
    },
    "tags": []
   },
   "source": [
    "## Polars read_parquet"
   ]
  },
  {
   "cell_type": "code",
   "execution_count": null,
   "id": "17",
   "metadata": {
    "papermill": {
     "duration": 37.821116,
     "end_time": "2024-03-22T17:31:12.527466",
     "exception": false,
     "start_time": "2024-03-22T17:30:34.706350",
     "status": "completed"
    },
    "tags": []
   },
   "outputs": [],
   "source": [
    "tool = 'polars[eager]'\n",
    "fn = IO_FUNCS[tool]\n",
    "timings = %timeit -o q4(fn(lineitem), fn(orders))\n",
    "results[tool] = timings.all_runs"
   ]
  },
  {
   "cell_type": "markdown",
   "id": "18",
   "metadata": {
    "papermill": {
     "duration": 0.005515,
     "end_time": "2024-03-22T17:31:12.539068",
     "exception": false,
     "start_time": "2024-03-22T17:31:12.533553",
     "status": "completed"
    },
    "tags": []
   },
   "source": [
    "## Polars scan_parquet"
   ]
  },
  {
   "cell_type": "code",
   "execution_count": null,
   "id": "19",
   "metadata": {
    "papermill": {
     "duration": 4.800698,
     "end_time": "2024-03-22T17:31:17.346813",
     "exception": false,
     "start_time": "2024-03-22T17:31:12.546115",
     "status": "completed"
    },
    "tags": []
   },
   "outputs": [],
   "source": [
    "tool = 'polars[lazy]'\n",
    "fn = IO_FUNCS[tool]\n",
    "timings = %timeit -o q4(fn(lineitem), fn(orders)).collect()\n",
    "results[tool] = timings.all_runs"
   ]
  },
  {
   "cell_type": "markdown",
   "id": "20",
   "metadata": {},
   "source": [
    "## Save"
   ]
  },
  {
   "cell_type": "code",
   "execution_count": null,
   "id": "21",
   "metadata": {},
   "outputs": [],
   "source": [
    "import json\n",
    "with open('results.json', 'w') as fd:\n",
    "    json.dump(results, fd)\n"
   ]
  }
 ],
 "metadata": {
  "kaggle": {
   "accelerator": "none",
   "dataSources": [
    {
     "sourceId": 167796716,
     "sourceType": "kernelVersion"
    },
    {
     "sourceId": 167796934,
     "sourceType": "kernelVersion"
    },
    {
     "sourceId": 167796952,
     "sourceType": "kernelVersion"
    },
    {
     "sourceId": 167796969,
     "sourceType": "kernelVersion"
    }
   ],
   "isGpuEnabled": false,
   "isInternetEnabled": true,
   "language": "python",
   "sourceType": "notebook"
  },
  "kernelspec": {
   "display_name": "Python 3",
   "language": "python",
   "name": "python3"
  },
  "language_info": {
   "codemirror_mode": {
    "name": "ipython",
    "version": 3
   },
   "file_extension": ".py",
   "mimetype": "text/x-python",
   "name": "python",
   "nbconvert_exporter": "python",
   "pygments_lexer": "ipython3",
   "version": "3.10.13"
  },
  "papermill": {
   "default_parameters": {},
   "duration": 458.423327,
   "end_time": "2024-03-22T17:31:18.077306",
   "environment_variables": {},
   "exception": null,
   "input_path": "__notebook__.ipynb",
   "output_path": "__notebook__.ipynb",
   "parameters": {},
   "start_time": "2024-03-22T17:23:39.653979",
   "version": "2.5.0"
  }
 },
 "nbformat": 4,
 "nbformat_minor": 5
}
