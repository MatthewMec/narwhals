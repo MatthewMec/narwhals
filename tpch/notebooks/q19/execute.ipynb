{
 "cells": [
  {
   "cell_type": "code",
   "execution_count": null,
   "metadata": {
    "papermill": {
     "duration": 33.390992,
     "end_time": "2024-03-22T17:24:15.601719",
     "exception": false,
     "start_time": "2024-03-22T17:23:42.210727",
     "status": "completed"
    },
    "tags": []
   },
   "outputs": [],
   "source": [
    "!pip uninstall apache-beam -y && pip install -U pandas polars pyarrow narwhals "
   ]
  },
  {
   "cell_type": "code",
   "execution_count": null,
   "metadata": {
    "papermill": {
     "duration": 0.907754,
     "end_time": "2024-03-22T17:24:39.053873",
     "exception": false,
     "start_time": "2024-03-22T17:24:38.146119",
     "status": "completed"
    },
    "tags": []
   },
   "outputs": [],
   "source": [
    "import pandas as pd\n",
    "import polars as pl\n",
    "\n",
    "pd.options.mode.copy_on_write = True\n",
    "pd.options.future.infer_string = True"
   ]
  },
  {
   "cell_type": "code",
   "execution_count": null,
   "metadata": {
    "papermill": {
     "duration": 0.021725,
     "end_time": "2024-03-22T17:24:39.080999",
     "exception": false,
     "start_time": "2024-03-22T17:24:39.059274",
     "status": "completed"
    },
    "tags": []
   },
   "outputs": [],
   "source": [
    "from typing import Any\n",
    "import narwhals as nw\n",
    "\n",
    "def q19(\n",
    "    lineitem_ds_raw: Any,\n",
    "    part_ds_raw: Any\n",
    "    \n",
    ") -> Any:\n",
    "\n",
    "    lineitem_ds = nw.from_native(lineitem_ds_raw)\n",
    "    part_ds = nw.from_native(part_ds_raw)\n",
    "\n",
    "    result = (\n",
    "        part_ds.join(lineitem_ds, left_on=\"p_partkey\", right_on=\"l_partkey\")\n",
    "        .filter(nw.col(\"l_shipmode\").is_in([\"AIR\", \"AIR REG\"]))\n",
    "        .filter(nw.col(\"l_shipinstruct\") == \"DELIVER IN PERSON\")\n",
    "        .filter(\n",
    "            (\n",
    "                (nw.col(\"p_brand\") == \"Brand#12\")\n",
    "                & nw.col(\"p_container\").is_in(\n",
    "                    [\"SM CASE\", \"SM BOX\", \"SM PACK\", \"SM PKG\"]\n",
    "                )\n",
    "                & (nw.col(\"l_quantity\").is_between(1, 11))\n",
    "                & (nw.col(\"p_size\").is_between(1, 5))\n",
    "            )\n",
    "            | (\n",
    "                (nw.col(\"p_brand\") == \"Brand#23\")\n",
    "                & nw.col(\"p_container\").is_in(\n",
    "                    [\"MED BAG\", \"MED BOX\", \"MED PKG\", \"MED PACK\"]\n",
    "                )\n",
    "                & (nw.col(\"l_quantity\").is_between(10, 20))\n",
    "                & (nw.col(\"p_size\").is_between(1, 10))\n",
    "            )\n",
    "            | (\n",
    "                (nw.col(\"p_brand\") == \"Brand#34\")\n",
    "                & nw.col(\"p_container\").is_in(\n",
    "                    [\"LG CASE\", \"LG BOX\", \"LG PACK\", \"LG PKG\"]\n",
    "                )\n",
    "                & (nw.col(\"l_quantity\").is_between(20, 30))\n",
    "                & (nw.col(\"p_size\").is_between(1, 15))\n",
    "            )\n",
    "        )\n",
    "        .select(\n",
    "            (nw.col(\"l_extendedprice\") * (1 - nw.col(\"l_discount\")))\n",
    "            .sum()\n",
    "            .round(2)\n",
    "            .alias(\"revenue\")\n",
    "        )\n",
    "    )\n",
    "\n",
    "\n",
    "    return nw.to_native(result)"
   ]
  },
  {
   "cell_type": "code",
   "execution_count": null,
   "metadata": {
    "papermill": {
     "duration": 0.013325,
     "end_time": "2024-03-22T17:24:39.099766",
     "exception": false,
     "start_time": "2024-03-22T17:24:39.086441",
     "status": "completed"
    },
    "tags": []
   },
   "outputs": [],
   "source": [
    "dir_ = \"/kaggle/input/tpc-h-data-parquet-s-2/\"\n",
    "lineitem = dir_ + 'lineitem.parquet'\n",
    "part = dir_ + 'part.parquet'"
   ]
  },
  {
   "cell_type": "code",
   "execution_count": null,
   "metadata": {
    "papermill": {
     "duration": 0.014284,
     "end_time": "2024-03-22T17:24:39.119737",
     "exception": false,
     "start_time": "2024-03-22T17:24:39.105453",
     "status": "completed"
    },
    "tags": []
   },
   "outputs": [],
   "source": [
    "IO_FUNCS = {\n",
    "    'pandas': lambda x: pd.read_parquet(x, engine='pyarrow'),\n",
    "    'pandas[pyarrow]': lambda x: pd.read_parquet(x, engine='pyarrow', dtype_backend='pyarrow'),\n",
    "    'polars[eager]': lambda x: pl.read_parquet(x),\n",
    "    'polars[lazy]': lambda x: pl.scan_parquet(x),\n",
    "}"
   ]
  },
  {
   "cell_type": "code",
   "execution_count": null,
   "metadata": {},
   "outputs": [],
   "source": [
    "results = {}"
   ]
  },
  {
   "cell_type": "markdown",
   "metadata": {
    "papermill": {
     "duration": 0.005113,
     "end_time": "2024-03-22T17:24:39.130472",
     "exception": false,
     "start_time": "2024-03-22T17:24:39.125359",
     "status": "completed"
    },
    "tags": []
   },
   "source": [
    "## pandas via Narwhals"
   ]
  },
  {
   "cell_type": "code",
   "execution_count": null,
   "metadata": {
    "papermill": {
     "duration": 196.786925,
     "end_time": "2024-03-22T17:27:55.922832",
     "exception": false,
     "start_time": "2024-03-22T17:24:39.135907",
     "status": "completed"
    },
    "tags": []
   },
   "outputs": [],
   "source": [
    "tool = 'pandas'\n",
    "fn = IO_FUNCS[tool]\n",
    "timings = %timeit -o q19(fn(lineitem), fn(part))\n",
    "results[tool] = timings.all_runs"
   ]
  },
  {
   "cell_type": "markdown",
   "metadata": {
    "papermill": {
     "duration": 0.005184,
     "end_time": "2024-03-22T17:27:55.933407",
     "exception": false,
     "start_time": "2024-03-22T17:27:55.928223",
     "status": "completed"
    },
    "tags": []
   },
   "source": [
    "## pandas, pyarrow dtypes, via Narwhals"
   ]
  },
  {
   "cell_type": "code",
   "execution_count": null,
   "metadata": {
    "papermill": {
     "duration": 158.748353,
     "end_time": "2024-03-22T17:30:34.688289",
     "exception": false,
     "start_time": "2024-03-22T17:27:55.939936",
     "status": "completed"
    },
    "tags": []
   },
   "outputs": [],
   "source": [
    "tool = 'pandas[pyarrow]'\n",
    "fn = IO_FUNCS[tool]\n",
    "timings = %timeit -o q19(fn(lineitem), fn(part))\n",
    "results[tool] = timings.all_runs"
   ]
  },
  {
   "cell_type": "markdown",
   "metadata": {
    "papermill": {
     "duration": 0.005773,
     "end_time": "2024-03-22T17:30:34.7003",
     "exception": false,
     "start_time": "2024-03-22T17:30:34.694527",
     "status": "completed"
    },
    "tags": []
   },
   "source": [
    "## Polars read_parquet"
   ]
  },
  {
   "cell_type": "code",
   "execution_count": null,
   "metadata": {
    "papermill": {
     "duration": 37.821116,
     "end_time": "2024-03-22T17:31:12.527466",
     "exception": false,
     "start_time": "2024-03-22T17:30:34.70635",
     "status": "completed"
    },
    "tags": []
   },
   "outputs": [],
   "source": [
    "tool = 'polars[eager]'\n",
    "fn = IO_FUNCS[tool]\n",
    "timings = %timeit -o q19(fn(lineitem), fn(part))\n",
    "results[tool] = timings.all_runs"
   ]
  },
  {
   "cell_type": "markdown",
   "metadata": {
    "papermill": {
     "duration": 0.005515,
     "end_time": "2024-03-22T17:31:12.539068",
     "exception": false,
     "start_time": "2024-03-22T17:31:12.533553",
     "status": "completed"
    },
    "tags": []
   },
   "source": [
    "## Polars scan_parquet"
   ]
  },
  {
   "cell_type": "code",
   "execution_count": null,
   "metadata": {
    "papermill": {
     "duration": 4.800698,
     "end_time": "2024-03-22T17:31:17.346813",
     "exception": false,
     "start_time": "2024-03-22T17:31:12.546115",
     "status": "completed"
    },
    "tags": []
   },
   "outputs": [],
   "source": [
    "tool = 'polars[lazy]'\n",
    "fn = IO_FUNCS[tool]\n",
    "timings = %timeit -o q19(fn(lineitem), fn(part)).collect()\n",
    "results[tool] = timings.all_runs"
   ]
  },
  {
   "cell_type": "markdown",
   "metadata": {},
   "source": [
    "## Save"
   ]
  },
  {
   "cell_type": "code",
   "execution_count": null,
   "metadata": {},
   "outputs": [],
   "source": [
    "import json\n",
    "with open('results.json', 'w') as fd:\n",
    "    json.dump(results, fd)\n"
   ]
  }
 ],
 "metadata": {
  "kaggle": {
   "accelerator": "none",
   "dataSources": [
    {
     "sourceId": 167796934,
     "sourceType": "kernelVersion"
    }
   ],
   "dockerImageVersionId": 30673,
   "isGpuEnabled": false,
   "isInternetEnabled": true,
   "language": "python",
   "sourceType": "notebook"
  },
  "kernelspec": {
   "display_name": "Python 3",
   "language": "python",
   "name": "python3"
  },
  "language_info": {
   "codemirror_mode": {
    "name": "ipython",
    "version": 3
   },
   "file_extension": ".py",
   "mimetype": "text/x-python",
   "name": "python",
   "nbconvert_exporter": "python",
   "pygments_lexer": "ipython3",
   "version": "3.10.13"
  },
  "papermill": {
   "default_parameters": {},
   "duration": 458.423327,
   "end_time": "2024-03-22T17:31:18.077306",
   "environment_variables": {},
   "exception": null,
   "input_path": "__notebook__.ipynb",
   "output_path": "__notebook__.ipynb",
   "parameters": {},
   "start_time": "2024-03-22T17:23:39.653979",
   "version": "2.5.0"
  }
 },
 "nbformat": 4,
 "nbformat_minor": 4
}
