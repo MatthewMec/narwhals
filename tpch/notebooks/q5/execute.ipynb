{
 "cells": [
  {
   "cell_type": "code",
   "execution_count": null,
   "id": "0",
   "metadata": {
    "papermill": {
     "duration": 33.390992,
     "end_time": "2024-03-22T17:24:15.601719",
     "exception": false,
     "start_time": "2024-03-22T17:23:42.210727",
     "status": "completed"
    },
    "tags": []
   },
   "outputs": [],
   "source": [
    "!pip uninstall apache-beam -y && pip install -U pandas polars pyarrow narwhals>=0.9.5 ibis-framework "
   ]
  },
  {
   "cell_type": "code",
   "execution_count": null,
   "id": "1",
   "metadata": {
    "papermill": {
     "duration": 0.907754,
     "end_time": "2024-03-22T17:24:39.053873",
     "exception": false,
     "start_time": "2024-03-22T17:24:38.146119",
     "status": "completed"
    },
    "tags": []
   },
   "outputs": [],
   "source": [
    "import pandas as pd\n",
    "import polars as pl\n",
    "\n",
    "pd.options.mode.copy_on_write = True\n",
    "pd.options.future.infer_string = True"
   ]
  },
  {
   "cell_type": "code",
   "execution_count": null,
   "id": "2",
   "metadata": {},
   "outputs": [],
   "source": [
    "from typing import Any\n",
    "from datetime import date\n",
    "\n",
    "def q5_pandas_native(\n",
    "    region_ds: Any,\n",
    "    nation_ds: Any,\n",
    "    customer_ds: Any,\n",
    "    line_item_ds: Any,\n",
    "    orders_ds: Any,\n",
    "    supplier_ds: Any,\n",
    "):\n",
    "    var1 = \"ASIA\"\n",
    "    var2 = date(1994, 1, 1)\n",
    "    var3 = date(1995, 1, 1)\n",
    "\n",
    "    jn1 = region_ds.merge(nation_ds, left_on=\"r_regionkey\", right_on=\"n_regionkey\")\n",
    "    jn2 = jn1.merge(customer_ds, left_on=\"n_nationkey\", right_on=\"c_nationkey\")\n",
    "    jn3 = jn2.merge(orders_ds, left_on=\"c_custkey\", right_on=\"o_custkey\")\n",
    "    jn4 = jn3.merge(line_item_ds, left_on=\"o_orderkey\", right_on=\"l_orderkey\")\n",
    "    jn5 = jn4.merge(\n",
    "        supplier_ds,\n",
    "        left_on=[\"l_suppkey\", \"n_nationkey\"],\n",
    "        right_on=[\"s_suppkey\", \"s_nationkey\"],\n",
    "    )\n",
    "\n",
    "    jn5 = jn5[jn5[\"r_name\"] == var1]\n",
    "    jn5 = jn5[(jn5[\"o_orderdate\"] >= var2) & (jn5[\"o_orderdate\"] < var3)]\n",
    "    jn5[\"revenue\"] = jn5.l_extendedprice * (1.0 - jn5.l_discount)\n",
    "\n",
    "    gb = jn5.groupby(\"n_name\", as_index=False)[\"revenue\"].sum()\n",
    "    result_df = gb.sort_values(\"revenue\", ascending=False)\n",
    "\n",
    "    return result_df  # type: ignore[no-any-return]"
   ]
  },
  {
   "cell_type": "code",
   "execution_count": null,
   "id": "3",
   "metadata": {},
   "outputs": [],
   "source": [
    "from typing import Any\n",
    "from datetime import datetime\n",
    "import narwhals as nw\n",
    "\n",
    "def q5(\n",
    "    region_ds_raw: Any,\n",
    "    nation_ds_raw: Any,\n",
    "    customer_ds_raw: Any,\n",
    "    lineitem_ds_raw: Any,\n",
    "    orders_ds_raw: Any,\n",
    "    supplier_ds_raw: Any,\n",
    ") -> Any:\n",
    "    var_1 = \"ASIA\"\n",
    "    var_2 = datetime(1994, 1, 1)\n",
    "    var_3 = datetime(1995, 1, 1)\n",
    "\n",
    "    region_ds = nw.from_native(region_ds_raw)\n",
    "    nation_ds = nw.from_native(nation_ds_raw)\n",
    "    customer_ds = nw.from_native(customer_ds_raw)\n",
    "    line_item_ds = nw.from_native(lineitem_ds_raw)\n",
    "    orders_ds = nw.from_native(orders_ds_raw)\n",
    "    supplier_ds = nw.from_native(supplier_ds_raw)\n",
    "\n",
    "    result = (\n",
    "        region_ds.join(nation_ds, left_on=\"r_regionkey\", right_on=\"n_regionkey\")\n",
    "        .join(customer_ds, left_on=\"n_nationkey\", right_on=\"c_nationkey\")\n",
    "        .join(orders_ds, left_on=\"c_custkey\", right_on=\"o_custkey\")\n",
    "        .join(line_item_ds, left_on=\"o_orderkey\", right_on=\"l_orderkey\")\n",
    "        .join(\n",
    "            supplier_ds,\n",
    "            left_on=[\"l_suppkey\", \"n_nationkey\"],\n",
    "            right_on=[\"s_suppkey\", \"s_nationkey\"],\n",
    "        )\n",
    "        .filter(\n",
    "            nw.col(\"r_name\") == var_1,\n",
    "            nw.col(\"o_orderdate\").is_between(var_2, var_3, closed=\"left\")\n",
    "        )\n",
    "        .with_columns(\n",
    "            (nw.col(\"l_extendedprice\") * (1 - nw.col(\"l_discount\"))).alias(\"revenue\")\n",
    "        )\n",
    "        .group_by(\"n_name\")\n",
    "        .agg([nw.sum(\"revenue\")])\n",
    "        .sort(by=\"revenue\", descending=True)\n",
    "    )\n",
    "\n",
    "    return nw.to_native(result)"
   ]
  },
  {
   "cell_type": "code",
   "execution_count": null,
   "id": "4",
   "metadata": {},
   "outputs": [],
   "source": [
    "from typing import Any\n",
    "from datetime import datetime\n",
    "import narwhals as nw\n",
    "import ibis\n",
    "\n",
    "def q5_ibis(\n",
    "    region: Any,\n",
    "    nation: Any,\n",
    "    customer: Any,\n",
    "    lineitem: Any,\n",
    "    orders: Any,\n",
    "    supplier: Any,\n",
    "    *,\n",
    "    tool: str,\n",
    ") -> Any:\n",
    "    var1 = \"ASIA\"\n",
    "    var2 = datetime(1994, 1, 1)\n",
    "    var3 = datetime(1995, 1, 1)\n",
    "\n",
    "    q_final = (\n",
    "        region.join(nation, region[\"r_regionkey\"] == nation[\"n_regionkey\"])\n",
    "        .join(customer, ibis._[\"n_nationkey\"] == customer[\"c_nationkey\"])\n",
    "        .join(orders, ibis._[\"c_custkey\"] == orders[\"o_custkey\"])\n",
    "        .join(lineitem, ibis._[\"o_orderkey\"] == lineitem[\"l_orderkey\"])\n",
    "        .join(\n",
    "            supplier,\n",
    "            (ibis._[\"l_suppkey\"] == supplier[\"s_suppkey\"])\n",
    "            & (ibis._[\"n_nationkey\"] == supplier[\"s_nationkey\"]),\n",
    "        )\n",
    "        .filter(ibis._[\"r_name\"] == var1)\n",
    "        .filter((ibis._[\"o_orderdate\"] >= var2) & (ibis._[\"o_orderdate\"] < var3))\n",
    "        .mutate(revenue=(lineitem[\"l_extendedprice\"] * (1 - lineitem[\"l_discount\"])))\n",
    "        .group_by(\"n_name\")\n",
    "        .agg(revenue=ibis._[\"revenue\"].sum())\n",
    "        .order_by(ibis.desc(\"revenue\"))\n",
    "    )\n",
    "\n",
    "    if tool == 'pandas':\n",
    "        return q_final.to_pandas()\n",
    "    if tool == 'polars':\n",
    "        return q_final.to_polars()\n",
    "    raise ValueError(\"expected pandas or polars\")"
   ]
  },
  {
   "cell_type": "code",
   "execution_count": null,
   "id": "5",
   "metadata": {
    "papermill": {
     "duration": 0.013325,
     "end_time": "2024-03-22T17:24:39.099766",
     "exception": false,
     "start_time": "2024-03-22T17:24:39.086441",
     "status": "completed"
    },
    "tags": []
   },
   "outputs": [],
   "source": [
    "dir_ = \"/kaggle/input/tpc-h-data-parquet-s-2/\"\n",
    "region = dir_ + 'region.parquet'\n",
    "nation = dir_ + 'nation.parquet'\n",
    "customer = dir_ + 'customer.parquet'\n",
    "lineitem = dir_ + 'lineitem.parquet'\n",
    "orders = dir_ + 'orders.parquet'\n",
    "supplier = dir_ + 'supplier.parquet'\n",
    "part = dir_ + 'part.parquet'\n",
    "partsupp = dir_ + 'partsupp.parquet'"
   ]
  },
  {
   "cell_type": "code",
   "execution_count": null,
   "id": "6",
   "metadata": {
    "papermill": {
     "duration": 0.014284,
     "end_time": "2024-03-22T17:24:39.119737",
     "exception": false,
     "start_time": "2024-03-22T17:24:39.105453",
     "status": "completed"
    },
    "tags": []
   },
   "outputs": [],
   "source": [
    "import ibis\n",
    "\n",
    "con_pd = ibis.pandas.connect()\n",
    "con_pl = ibis.polars.connect()\n",
    "\n",
    "IO_FUNCS = {\n",
    "    'pandas': lambda x: pd.read_parquet(x, engine='pyarrow'),\n",
    "    'pandas[pyarrow]': lambda x: pd.read_parquet(x, engine='pyarrow', dtype_backend='pyarrow'),\n",
    "    'pandas[pyarrow][ibis]': lambda x: con_pd.read_parquet(x, engine='pyarrow', dtype_backend='pyarrow'),\n",
    "    'polars[eager]': lambda x: pl.read_parquet(x),\n",
    "    'polars[lazy]': lambda x: pl.scan_parquet(x),\n",
    "    'polars[lazy][ibis]': lambda x: con_pl.read_parquet(x),\n",
    "}"
   ]
  },
  {
   "cell_type": "code",
   "execution_count": null,
   "id": "7",
   "metadata": {},
   "outputs": [],
   "source": [
    "results = {}"
   ]
  },
  {
   "cell_type": "markdown",
   "id": "8",
   "metadata": {},
   "source": [
    "## Polars, lazy, via ibis"
   ]
  },
  {
   "cell_type": "code",
   "execution_count": null,
   "id": "9",
   "metadata": {},
   "outputs": [],
   "source": [
    "tool = 'polars[lazy][ibis]'\n",
    "fn = IO_FUNCS[tool]\n",
    "timings = %timeit -o q5_ibis(fn(region), fn(nation), fn(customer), fn(lineitem), fn(orders), fn(supplier), tool='polars')\n",
    "results[tool] = timings.all_runs"
   ]
  },
  {
   "cell_type": "markdown",
   "id": "10",
   "metadata": {},
   "source": [
    "## pandas, pyarrow dtypes, native"
   ]
  },
  {
   "cell_type": "code",
   "execution_count": null,
   "id": "11",
   "metadata": {},
   "outputs": [],
   "source": [
    "tool = 'pandas[pyarrow]'\n",
    "fn = IO_FUNCS[tool]\n",
    "timings = %timeit -o q5_pandas_native(fn(region), fn(nation), fn(customer), fn(lineitem), fn(orders), fn(supplier))\n",
    "results[tool+'[native]'] = timings.all_runs"
   ]
  },
  {
   "cell_type": "markdown",
   "id": "12",
   "metadata": {
    "papermill": {
     "duration": 0.005113,
     "end_time": "2024-03-22T17:24:39.130472",
     "exception": false,
     "start_time": "2024-03-22T17:24:39.125359",
     "status": "completed"
    },
    "tags": []
   },
   "source": [
    "## pandas via Narwhals"
   ]
  },
  {
   "cell_type": "code",
   "execution_count": null,
   "id": "13",
   "metadata": {
    "papermill": {
     "duration": 196.786925,
     "end_time": "2024-03-22T17:27:55.922832",
     "exception": false,
     "start_time": "2024-03-22T17:24:39.135907",
     "status": "completed"
    },
    "tags": []
   },
   "outputs": [],
   "source": [
    "tool = 'pandas'\n",
    "fn = IO_FUNCS[tool]\n",
    "timings = %timeit -o q5(fn(region), fn(nation), fn(customer), fn(lineitem), fn(orders), fn(supplier))\n",
    "results[tool] = timings.all_runs"
   ]
  },
  {
   "cell_type": "markdown",
   "id": "14",
   "metadata": {
    "papermill": {
     "duration": 0.005184,
     "end_time": "2024-03-22T17:27:55.933407",
     "exception": false,
     "start_time": "2024-03-22T17:27:55.928223",
     "status": "completed"
    },
    "tags": []
   },
   "source": [
    "## pandas, pyarrow dtypes, via Narwhals"
   ]
  },
  {
   "cell_type": "code",
   "execution_count": null,
   "id": "15",
   "metadata": {
    "papermill": {
     "duration": 158.748353,
     "end_time": "2024-03-22T17:30:34.688289",
     "exception": false,
     "start_time": "2024-03-22T17:27:55.939936",
     "status": "completed"
    },
    "tags": []
   },
   "outputs": [],
   "source": [
    "tool = 'pandas[pyarrow]'\n",
    "fn = IO_FUNCS[tool]\n",
    "timings = %timeit -o q5(fn(region), fn(nation), fn(customer), fn(lineitem), fn(orders), fn(supplier))\n",
    "results[tool] = timings.all_runs"
   ]
  },
  {
   "cell_type": "markdown",
   "id": "16",
   "metadata": {
    "papermill": {
     "duration": 0.005773,
     "end_time": "2024-03-22T17:30:34.700300",
     "exception": false,
     "start_time": "2024-03-22T17:30:34.694527",
     "status": "completed"
    },
    "tags": []
   },
   "source": [
    "## Polars read_parquet"
   ]
  },
  {
   "cell_type": "code",
   "execution_count": null,
   "id": "17",
   "metadata": {
    "papermill": {
     "duration": 37.821116,
     "end_time": "2024-03-22T17:31:12.527466",
     "exception": false,
     "start_time": "2024-03-22T17:30:34.706350",
     "status": "completed"
    },
    "tags": []
   },
   "outputs": [],
   "source": [
    "tool = 'polars[eager]'\n",
    "fn = IO_FUNCS[tool]\n",
    "timings = %timeit -o q5(fn(region), fn(nation), fn(customer), fn(lineitem), fn(orders), fn(supplier))\n",
    "results[tool] = timings.all_runs"
   ]
  },
  {
   "cell_type": "markdown",
   "id": "18",
   "metadata": {
    "papermill": {
     "duration": 0.005515,
     "end_time": "2024-03-22T17:31:12.539068",
     "exception": false,
     "start_time": "2024-03-22T17:31:12.533553",
     "status": "completed"
    },
    "tags": []
   },
   "source": [
    "## Polars scan_parquet"
   ]
  },
  {
   "cell_type": "code",
   "execution_count": null,
   "id": "19",
   "metadata": {
    "papermill": {
     "duration": 4.800698,
     "end_time": "2024-03-22T17:31:17.346813",
     "exception": false,
     "start_time": "2024-03-22T17:31:12.546115",
     "status": "completed"
    },
    "tags": []
   },
   "outputs": [],
   "source": [
    "tool = 'polars[lazy]'\n",
    "fn = IO_FUNCS[tool]\n",
    "timings = %timeit -o q5(fn(region), fn(nation), fn(customer), fn(lineitem), fn(orders), fn(supplier)).collect()\n",
    "results[tool] = timings.all_runs"
   ]
  },
  {
   "cell_type": "markdown",
   "id": "20",
   "metadata": {},
   "source": [
    "## Save"
   ]
  },
  {
   "cell_type": "code",
   "execution_count": null,
   "id": "21",
   "metadata": {},
   "outputs": [],
   "source": [
    "import json\n",
    "with open('results.json', 'w') as fd:\n",
    "    json.dump(results, fd)\n"
   ]
  }
 ],
 "metadata": {
  "kaggle": {
   "accelerator": "none",
   "dataSources": [
    {
     "sourceId": 167796716,
     "sourceType": "kernelVersion"
    },
    {
     "sourceId": 167796934,
     "sourceType": "kernelVersion"
    },
    {
     "sourceId": 167796952,
     "sourceType": "kernelVersion"
    },
    {
     "sourceId": 167796969,
     "sourceType": "kernelVersion"
    }
   ],
   "isGpuEnabled": false,
   "isInternetEnabled": true,
   "language": "python",
   "sourceType": "notebook"
  },
  "kernelspec": {
   "display_name": "Python 3",
   "language": "python",
   "name": "python3"
  },
  "language_info": {
   "codemirror_mode": {
    "name": "ipython",
    "version": 3
   },
   "file_extension": ".py",
   "mimetype": "text/x-python",
   "name": "python",
   "nbconvert_exporter": "python",
   "pygments_lexer": "ipython3",
   "version": "3.10.13"
  },
  "papermill": {
   "default_parameters": {},
   "duration": 458.423327,
   "end_time": "2024-03-22T17:31:18.077306",
   "environment_variables": {},
   "exception": null,
   "input_path": "__notebook__.ipynb",
   "output_path": "__notebook__.ipynb",
   "parameters": {},
   "start_time": "2024-03-22T17:23:39.653979",
   "version": "2.5.0"
  }
 },
 "nbformat": 4,
 "nbformat_minor": 5
}
