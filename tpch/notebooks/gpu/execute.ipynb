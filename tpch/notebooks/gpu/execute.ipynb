{
 "cells": [
  {
   "cell_type": "code",
   "execution_count": null,
   "id": "0",
   "metadata": {
    "papermill": {
     "duration": 13.50746,
     "end_time": "2024-03-23T16:07:02.428026",
     "exception": false,
     "start_time": "2024-03-23T16:06:48.920566",
     "status": "completed"
    },
    "tags": []
   },
   "outputs": [],
   "source": [
    "!pip install -U narwhals>=0.7.2"
   ]
  },
  {
   "cell_type": "code",
   "execution_count": null,
   "id": "1",
   "metadata": {
    "papermill": {
     "duration": 276.933638,
     "end_time": "2024-03-23T16:11:39.366857",
     "exception": false,
     "start_time": "2024-03-23T16:07:02.433219",
     "status": "completed"
    },
    "tags": []
   },
   "outputs": [],
   "source": [
    "# Remove all conda packages\n",
    "!find /opt/conda \\( -name \"cudf*\" -o -name \"libcudf*\" -o -name \"cuml*\" -o -name \"libcuml*\" \\\n",
    "                   -o -name \"cugraph*\" -o -name \"libcugraph*\" -o -name \"raft*\" -o -name \"libraft*\" \\\n",
    "                   -o -name \"pylibraft*\" -o -name \"libkvikio*\" -o -name \"*dask*\" -o -name \"rmm*\"\\\n",
    "                   -o -name \"librmm*\" \\) -exec rm -rf {} \\; 2>/dev/null\n",
    "\n",
    "# pip uninstall, just incase there are packages lying around\n",
    "!pip uninstall cudf cuml dask-cudf cuml cugraph cupy cupy-cuda12x --y\n",
    "\n",
    "\n",
    "!pip install \\\n",
    "    --extra-index-url=https://pypi.nvidia.com \\\n",
    "    cudf-cu12==24.2.* \\\n",
    "    dask-cudf-cu12==24.2.* \\\n",
    "    cuml-cu12==24.2.* \\\n",
    "    cugraph-cu12==24.2.*\n",
    "\n"
   ]
  },
  {
   "cell_type": "code",
   "execution_count": null,
   "id": "2",
   "metadata": {
    "papermill": {
     "duration": 4.147764,
     "end_time": "2024-03-23T16:11:43.699466",
     "exception": false,
     "start_time": "2024-03-23T16:11:39.551702",
     "status": "completed"
    },
    "tags": []
   },
   "outputs": [],
   "source": [
    "import cudf"
   ]
  },
  {
   "cell_type": "code",
   "execution_count": null,
   "id": "3",
   "metadata": {
    "papermill": {
     "duration": 0.148115,
     "end_time": "2024-03-23T16:11:44.003370",
     "exception": false,
     "start_time": "2024-03-23T16:11:43.855255",
     "status": "completed"
    },
    "tags": []
   },
   "outputs": [],
   "source": []
  },
  {
   "cell_type": "code",
   "execution_count": null,
   "id": "4",
   "metadata": {
    "papermill": {
     "duration": 0.186887,
     "end_time": "2024-03-23T16:11:44.341982",
     "exception": false,
     "start_time": "2024-03-23T16:11:44.155095",
     "status": "completed"
    },
    "tags": []
   },
   "outputs": [],
   "source": [
    "from typing import Any\n",
    "from datetime import datetime\n",
    "import narwhals as nw\n",
    "\n",
    "def q1(df_raw: Any) -> Any:\n",
    "    var_1 = datetime(1998, 9, 2)\n",
    "    df = nw.from_native(df_raw)\n",
    "    result = (\n",
    "        df.filter(nw.col(\"l_shipdate\") <= var_1)\n",
    "        .with_columns(\n",
    "            disc_price=nw.col(\"l_extendedprice\") * (1 - nw.col(\"l_discount\")),\n",
    "            charge=(\n",
    "                nw.col(\"l_extendedprice\")\n",
    "                * (1.0 - nw.col(\"l_discount\"))\n",
    "                * (1.0 + nw.col(\"l_tax\"))\n",
    "            ),\n",
    "        )\n",
    "        .group_by([\"l_returnflag\", \"l_linestatus\"])\n",
    "        .agg(\n",
    "            [\n",
    "                nw.sum(\"l_quantity\").alias(\"sum_qty\"),\n",
    "                nw.sum(\"l_extendedprice\").alias(\"sum_base_price\"),\n",
    "                nw.sum(\"disc_price\").alias(\"sum_disc_price\"),\n",
    "                nw.col(\"charge\").sum().alias(\"sum_charge\"),\n",
    "                nw.mean(\"l_quantity\").alias(\"avg_qty\"),\n",
    "                nw.mean(\"l_extendedprice\").alias(\"avg_price\"),\n",
    "                nw.mean(\"l_discount\").alias(\"avg_disc\"),\n",
    "                nw.len().alias(\"count_order\"),\n",
    "            ],\n",
    "        )\n",
    "        .sort([\"l_returnflag\", \"l_linestatus\"])\n",
    "    )\n",
    "    return nw.to_native(result)"
   ]
  },
  {
   "cell_type": "code",
   "execution_count": null,
   "id": "5",
   "metadata": {
    "papermill": {
     "duration": 0.158162,
     "end_time": "2024-03-23T16:11:44.671154",
     "exception": false,
     "start_time": "2024-03-23T16:11:44.512992",
     "status": "completed"
    },
    "tags": []
   },
   "outputs": [],
   "source": [
    "\n",
    "\n",
    "from typing import Any\n",
    "from datetime import datetime\n",
    "import narwhals as nw\n",
    "\n",
    "def q2(\n",
    "    region_ds_raw: Any,\n",
    "    nation_ds_raw: Any,\n",
    "    supplier_ds_raw: Any,\n",
    "    part_ds_raw: Any,\n",
    "    part_supp_ds_raw: Any,\n",
    ") -> Any:\n",
    "    var_1 = 15\n",
    "    var_2 = \"BRASS\"\n",
    "    var_3 = \"EUROPE\"\n",
    "\n",
    "    region_ds = nw.from_native(region_ds_raw)\n",
    "    nation_ds = nw.from_native(nation_ds_raw)\n",
    "    supplier_ds = nw.from_native(supplier_ds_raw)\n",
    "    part_ds = nw.from_native(part_ds_raw)\n",
    "    part_supp_ds = nw.from_native(part_supp_ds_raw)\n",
    "\n",
    "    result_q2 = (\n",
    "        part_ds.join(part_supp_ds, left_on=\"p_partkey\", right_on=\"ps_partkey\")\n",
    "        .join(supplier_ds, left_on=\"ps_suppkey\", right_on=\"s_suppkey\")\n",
    "        .join(nation_ds, left_on=\"s_nationkey\", right_on=\"n_nationkey\")\n",
    "        .join(region_ds, left_on=\"n_regionkey\", right_on=\"r_regionkey\")\n",
    "        .filter(nw.col(\"p_size\") == var_1)\n",
    "        .filter(nw.col(\"p_type\").str.ends_with(var_2))\n",
    "        .filter(nw.col(\"r_name\") == var_3)\n",
    "    )\n",
    "\n",
    "    final_cols = [\n",
    "        \"s_acctbal\",\n",
    "        \"s_name\",\n",
    "        \"n_name\",\n",
    "        \"p_partkey\",\n",
    "        \"p_mfgr\",\n",
    "        \"s_address\",\n",
    "        \"s_phone\",\n",
    "        \"s_comment\",\n",
    "    ]\n",
    "\n",
    "    q_final = (\n",
    "        result_q2.group_by(\"p_partkey\")\n",
    "        .agg(nw.min(\"ps_supplycost\").alias(\"ps_supplycost\"))\n",
    "        .join(\n",
    "            result_q2,\n",
    "            left_on=[\"p_partkey\", \"ps_supplycost\"],\n",
    "            right_on=[\"p_partkey\", \"ps_supplycost\"],\n",
    "        )\n",
    "        .select(final_cols)\n",
    "        .sort(\n",
    "            by=[\"s_acctbal\", \"n_name\", \"s_name\", \"p_partkey\"],\n",
    "            descending=[True, False, False, False],\n",
    "        )\n",
    "        .head(100)\n",
    "    )\n",
    "\n",
    "    return nw.to_native(q_final)"
   ]
  },
  {
   "cell_type": "code",
   "execution_count": null,
   "id": "6",
   "metadata": {
    "papermill": {
     "duration": 0.153978,
     "end_time": "2024-03-23T16:11:44.967693",
     "exception": false,
     "start_time": "2024-03-23T16:11:44.813715",
     "status": "completed"
    },
    "tags": []
   },
   "outputs": [],
   "source": [
    "from typing import Any\n",
    "from datetime import datetime\n",
    "import narwhals as nw\n",
    "\n",
    "def q3(\n",
    "    customer_ds_raw: Any,\n",
    "    line_item_ds_raw: Any,\n",
    "    orders_ds_raw: Any,\n",
    ") -> Any:\n",
    "    var_1 = var_2 = datetime(1995, 3, 15)\n",
    "    var_3 = \"BUILDING\"\n",
    "\n",
    "    customer_ds = nw.from_native(customer_ds_raw)\n",
    "    line_item_ds = nw.from_native(line_item_ds_raw)\n",
    "    orders_ds = nw.from_native(orders_ds_raw)\n",
    "\n",
    "    q_final = (\n",
    "        customer_ds.filter(nw.col(\"c_mktsegment\") == var_3)\n",
    "        .join(orders_ds, left_on=\"c_custkey\", right_on=\"o_custkey\")\n",
    "        .join(line_item_ds, left_on=\"o_orderkey\", right_on=\"l_orderkey\")\n",
    "        .filter(nw.col(\"o_orderdate\") < var_2)\n",
    "        .filter(nw.col(\"l_shipdate\") > var_1)\n",
    "        .with_columns(\n",
    "            (nw.col(\"l_extendedprice\") * (1 - nw.col(\"l_discount\"))).alias(\"revenue\")\n",
    "        )\n",
    "        .group_by([\"o_orderkey\", \"o_orderdate\", \"o_shippriority\"])\n",
    "        .agg([nw.sum(\"revenue\")])\n",
    "        .select(\n",
    "            [\n",
    "                nw.col(\"o_orderkey\").alias(\"l_orderkey\"),\n",
    "                \"revenue\",\n",
    "                \"o_orderdate\",\n",
    "                \"o_shippriority\",\n",
    "            ]\n",
    "        )\n",
    "        .sort(by=[\"revenue\", \"o_orderdate\"], descending=[True, False])\n",
    "        .head(10)\n",
    "    )\n",
    "\n",
    "    return nw.to_native(q_final)"
   ]
  },
  {
   "cell_type": "code",
   "execution_count": null,
   "id": "7",
   "metadata": {
    "papermill": {
     "duration": 0.153799,
     "end_time": "2024-03-23T16:11:45.265846",
     "exception": false,
     "start_time": "2024-03-23T16:11:45.112047",
     "status": "completed"
    },
    "tags": []
   },
   "outputs": [],
   "source": [
    "\n",
    "\n",
    "from typing import Any\n",
    "from datetime import datetime\n",
    "import narwhals as nw\n",
    "\n",
    "def q4(\n",
    "    lineitem_ds_raw: Any,\n",
    "    orders_ds_raw: Any,\n",
    ") -> Any:\n",
    "    var_1 = datetime(1993, 7, 1)\n",
    "    var_2 = datetime(1993, 10, 1)\n",
    "\n",
    "    line_item_ds = nw.from_native(lineitem_ds_raw)\n",
    "    orders_ds = nw.from_native(orders_ds_raw)\n",
    "\n",
    "    result = (\n",
    "        line_item_ds.join(orders_ds, left_on=\"l_orderkey\", right_on=\"o_orderkey\")\n",
    "        .filter(nw.col(\"o_orderdate\").is_between(var_1, var_2, closed=\"left\"))\n",
    "        .filter(nw.col(\"l_commitdate\") < nw.col(\"l_receiptdate\"))\n",
    "        .unique(subset=[\"o_orderpriority\", \"l_orderkey\"])\n",
    "        .group_by(\"o_orderpriority\")\n",
    "        .agg(nw.len().alias(\"order_count\"))\n",
    "        .sort(by=\"o_orderpriority\")\n",
    "        .with_columns(nw.col(\"order_count\").cast(nw.Int64))\n",
    "    )\n",
    "\n",
    "    return nw.to_native(result)"
   ]
  },
  {
   "cell_type": "code",
   "execution_count": null,
   "id": "8",
   "metadata": {
    "papermill": {
     "duration": 0.159087,
     "end_time": "2024-03-23T16:11:45.567586",
     "exception": false,
     "start_time": "2024-03-23T16:11:45.408499",
     "status": "completed"
    },
    "tags": []
   },
   "outputs": [],
   "source": [
    "from typing import Any\n",
    "from datetime import datetime\n",
    "import narwhals as nw\n",
    "\n",
    "def q5(\n",
    "    region_ds_raw: Any,\n",
    "    nation_ds_raw: Any,\n",
    "    customer_ds_raw: Any,\n",
    "    lineitem_ds_raw: Any,\n",
    "    orders_ds_raw: Any,\n",
    "    supplier_ds_raw: Any,\n",
    ") -> Any:\n",
    "    var_1 = \"ASIA\"\n",
    "    var_2 = datetime(1994, 1, 1)\n",
    "    var_3 = datetime(1995, 1, 1)\n",
    "\n",
    "    region_ds = nw.from_native(region_ds_raw)\n",
    "    nation_ds = nw.from_native(nation_ds_raw)\n",
    "    customer_ds = nw.from_native(customer_ds_raw)\n",
    "    line_item_ds = nw.from_native(lineitem_ds_raw)\n",
    "    orders_ds = nw.from_native(orders_ds_raw)\n",
    "    supplier_ds = nw.from_native(supplier_ds_raw)\n",
    "\n",
    "    result = (\n",
    "        region_ds.join(nation_ds, left_on=\"r_regionkey\", right_on=\"n_regionkey\")\n",
    "        .join(customer_ds, left_on=\"n_nationkey\", right_on=\"c_nationkey\")\n",
    "        .join(orders_ds, left_on=\"c_custkey\", right_on=\"o_custkey\")\n",
    "        .join(line_item_ds, left_on=\"o_orderkey\", right_on=\"l_orderkey\")\n",
    "        .join(\n",
    "            supplier_ds,\n",
    "            left_on=[\"l_suppkey\", \"n_nationkey\"],\n",
    "            right_on=[\"s_suppkey\", \"s_nationkey\"],\n",
    "        )\n",
    "        .filter(\n",
    "            nw.col(\"r_name\") == var_1,\n",
    "            nw.col(\"o_orderdate\").is_between(var_2, var_3, closed=\"left\")\n",
    "        )\n",
    "        .with_columns(\n",
    "            (nw.col(\"l_extendedprice\") * (1 - nw.col(\"l_discount\"))).alias(\"revenue\")\n",
    "        )\n",
    "        .group_by(\"n_name\")\n",
    "        .agg([nw.sum(\"revenue\")])\n",
    "        .sort(by=\"revenue\", descending=True)\n",
    "    )\n",
    "\n",
    "    return nw.to_native(result)"
   ]
  },
  {
   "cell_type": "code",
   "execution_count": null,
   "id": "9",
   "metadata": {
    "papermill": {
     "duration": 0.154065,
     "end_time": "2024-03-23T16:11:45.865878",
     "exception": false,
     "start_time": "2024-03-23T16:11:45.711813",
     "status": "completed"
    },
    "tags": []
   },
   "outputs": [],
   "source": [
    "dir_ = \"/kaggle/input/tpc-h-data-parquet-s-2/\"\n",
    "region = dir_ + 'region.parquet'\n",
    "nation = dir_ + 'nation.parquet'\n",
    "customer = dir_ + 'customer.parquet'\n",
    "lineitem = dir_ + 'lineitem.parquet'\n",
    "orders = dir_ + 'orders.parquet'\n",
    "supplier = dir_ + 'supplier.parquet'\n",
    "part = dir_ + 'part.parquet'\n",
    "partsupp = dir_ + 'partsupp.parquet'"
   ]
  },
  {
   "cell_type": "code",
   "execution_count": null,
   "id": "10",
   "metadata": {
    "papermill": {
     "duration": 0.149554,
     "end_time": "2024-03-23T16:11:46.157770",
     "exception": false,
     "start_time": "2024-03-23T16:11:46.008216",
     "status": "completed"
    },
    "tags": []
   },
   "outputs": [],
   "source": [
    "results = {}"
   ]
  },
  {
   "cell_type": "code",
   "execution_count": null,
   "id": "11",
   "metadata": {
    "papermill": {
     "duration": 112.394193,
     "end_time": "2024-03-23T16:13:38.694589",
     "exception": false,
     "start_time": "2024-03-23T16:11:46.300396",
     "status": "completed"
    },
    "tags": []
   },
   "outputs": [],
   "source": [
    "import cudf\n",
    "fn = cudf.read_parquet\n",
    "timings = %timeit -o q1(fn(lineitem))\n",
    "results['q1'] = timings.all_runs"
   ]
  },
  {
   "cell_type": "code",
   "execution_count": null,
   "id": "12",
   "metadata": {
    "papermill": {
     "duration": 7.722805,
     "end_time": "2024-03-23T16:13:46.572524",
     "exception": false,
     "start_time": "2024-03-23T16:13:38.849719",
     "status": "completed"
    },
    "tags": []
   },
   "outputs": [],
   "source": [
    "import cudf\n",
    "fn = cudf.read_parquet\n",
    "timings = %timeit -o q2(fn(region), fn(nation), fn(supplier), fn(part), fn(partsupp))\n",
    "results['q2'] = timings.all_runs"
   ]
  },
  {
   "cell_type": "code",
   "execution_count": null,
   "id": "13",
   "metadata": {
    "papermill": {
     "duration": 8.745438,
     "end_time": "2024-03-23T16:13:55.465888",
     "exception": false,
     "start_time": "2024-03-23T16:13:46.720450",
     "status": "completed"
    },
    "tags": []
   },
   "outputs": [],
   "source": [
    "import cudf\n",
    "fn = cudf.read_parquet\n",
    "timings = %timeit -o q3(fn(customer), fn(lineitem), fn(orders))\n",
    "results['q3'] = timings.all_runs"
   ]
  },
  {
   "cell_type": "code",
   "execution_count": null,
   "id": "14",
   "metadata": {
    "papermill": {
     "duration": 9.273157,
     "end_time": "2024-03-23T16:14:04.904258",
     "exception": false,
     "start_time": "2024-03-23T16:13:55.631101",
     "status": "completed"
    },
    "tags": []
   },
   "outputs": [],
   "source": [
    "import cudf\n",
    "fn = cudf.read_parquet\n",
    "timings = %timeit -o q4(fn(lineitem), fn(orders))\n",
    "results['q4'] = timings.all_runs"
   ]
  },
  {
   "cell_type": "code",
   "execution_count": null,
   "id": "15",
   "metadata": {
    "papermill": {
     "duration": 11.308626,
     "end_time": "2024-03-23T16:14:16.369678",
     "exception": false,
     "start_time": "2024-03-23T16:14:05.061052",
     "status": "completed"
    },
    "tags": []
   },
   "outputs": [],
   "source": [
    "import cudf\n",
    "fn = cudf.read_parquet\n",
    "timings = %timeit -o q5(fn(region), fn(nation), fn(customer), fn(lineitem), fn(orders), fn(supplier))\n",
    "results['q5'] = timings.all_runs"
   ]
  },
  {
   "cell_type": "code",
   "execution_count": null,
   "id": "16",
   "metadata": {
    "papermill": {
     "duration": 0.157455,
     "end_time": "2024-03-23T16:14:16.689793",
     "exception": false,
     "start_time": "2024-03-23T16:14:16.532338",
     "status": "completed"
    },
    "tags": []
   },
   "outputs": [],
   "source": [
    "import json\n",
    "with open('results.json', 'w') as fd:\n",
    "    json.dump(results, fd)"
   ]
  }
 ],
 "metadata": {
  "kaggle": {
   "accelerator": "nvidiaTeslaT4",
   "dataSources": [
    {
     "sourceId": 167796934,
     "sourceType": "kernelVersion"
    }
   ],
   "dockerImageVersionId": 30674,
   "isGpuEnabled": true,
   "isInternetEnabled": true,
   "language": "python",
   "sourceType": "notebook"
  },
  "kernelspec": {
   "display_name": "Python 3",
   "language": "python",
   "name": "python3"
  },
  "language_info": {
   "codemirror_mode": {
    "name": "ipython",
    "version": 3
   },
   "file_extension": ".py",
   "mimetype": "text/x-python",
   "name": "python",
   "nbconvert_exporter": "python",
   "pygments_lexer": "ipython3",
   "version": "3.10.13"
  },
  "papermill": {
   "default_parameters": {},
   "duration": 451.646729,
   "end_time": "2024-03-23T16:14:17.553113",
   "environment_variables": {},
   "exception": null,
   "input_path": "__notebook__.ipynb",
   "output_path": "__notebook__.ipynb",
   "parameters": {},
   "start_time": "2024-03-23T16:06:45.906384",
   "version": "2.5.0"
  }
 },
 "nbformat": 4,
 "nbformat_minor": 5
}
