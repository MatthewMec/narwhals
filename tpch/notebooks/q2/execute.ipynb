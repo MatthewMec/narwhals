{
 "cells": [
  {
   "cell_type": "code",
   "execution_count": null,
   "id": "0",
   "metadata": {
    "papermill": {
     "duration": 33.390992,
     "end_time": "2024-03-22T17:24:15.601719",
     "exception": false,
     "start_time": "2024-03-22T17:23:42.210727",
     "status": "completed"
    },
    "tags": []
   },
   "outputs": [],
   "source": [
    "!pip uninstall apache-beam -y && pip install -U pandas polars pyarrow narwhals>=0.9.5 ibis-framework "
   ]
  },
  {
   "cell_type": "code",
   "execution_count": null,
   "id": "1",
   "metadata": {
    "papermill": {
     "duration": 0.907754,
     "end_time": "2024-03-22T17:24:39.053873",
     "exception": false,
     "start_time": "2024-03-22T17:24:38.146119",
     "status": "completed"
    },
    "tags": []
   },
   "outputs": [],
   "source": [
    "import pandas as pd\n",
    "import polars as pl\n",
    "\n",
    "pd.options.mode.copy_on_write = True\n",
    "pd.options.future.infer_string = True"
   ]
  },
  {
   "cell_type": "code",
   "execution_count": null,
   "id": "2",
   "metadata": {},
   "outputs": [],
   "source": [
    "from typing import Any\n",
    "\n",
    "def q2_pandas_native(\n",
    "    region_ds: Any,\n",
    "    nation_ds: Any,\n",
    "    supplier_ds: Any,\n",
    "    part_ds: Any,\n",
    "    part_supp_ds: Any,\n",
    "):\n",
    "    var1 = 15\n",
    "    var2 = \"BRASS\"\n",
    "    var3 = \"EUROPE\"\n",
    "\n",
    "    jn = (\n",
    "        part_ds.merge(part_supp_ds, left_on=\"p_partkey\", right_on=\"ps_partkey\")\n",
    "        .merge(supplier_ds, left_on=\"ps_suppkey\", right_on=\"s_suppkey\")\n",
    "        .merge(nation_ds, left_on=\"s_nationkey\", right_on=\"n_nationkey\")\n",
    "        .merge(region_ds, left_on=\"n_regionkey\", right_on=\"r_regionkey\")\n",
    "    )\n",
    "\n",
    "    jn = jn[jn[\"p_size\"] == var1]\n",
    "    jn = jn[jn[\"p_type\"].str.endswith(var2)]\n",
    "    jn = jn[jn[\"r_name\"] == var3]\n",
    "\n",
    "    gb = jn.groupby(\"p_partkey\", as_index=False)\n",
    "    agg = gb[\"ps_supplycost\"].min()\n",
    "    jn2 = agg.merge(jn, on=[\"p_partkey\", \"ps_supplycost\"])\n",
    "\n",
    "    sel = jn2.loc[\n",
    "        :,\n",
    "        [\n",
    "            \"s_acctbal\",\n",
    "            \"s_name\",\n",
    "            \"n_name\",\n",
    "            \"p_partkey\",\n",
    "            \"p_mfgr\",\n",
    "            \"s_address\",\n",
    "            \"s_phone\",\n",
    "            \"s_comment\",\n",
    "        ],\n",
    "    ]\n",
    "\n",
    "    sort = sel.sort_values(\n",
    "        by=[\"s_acctbal\", \"n_name\", \"s_name\", \"p_partkey\"],\n",
    "        ascending=[False, True, True, True],\n",
    "    )\n",
    "    result_df = sort.head(100)\n",
    "\n",
    "    return result_df  # type: ignore[no-any-return]"
   ]
  },
  {
   "cell_type": "code",
   "execution_count": null,
   "id": "3",
   "metadata": {
    "papermill": {
     "duration": 0.021725,
     "end_time": "2024-03-22T17:24:39.080999",
     "exception": false,
     "start_time": "2024-03-22T17:24:39.059274",
     "status": "completed"
    },
    "tags": []
   },
   "outputs": [],
   "source": [
    "from typing import Any\n",
    "from datetime import datetime\n",
    "import narwhals as nw\n",
    "\n",
    "def q2(\n",
    "    region_ds_raw: Any,\n",
    "    nation_ds_raw: Any,\n",
    "    supplier_ds_raw: Any,\n",
    "    part_ds_raw: Any,\n",
    "    part_supp_ds_raw: Any,\n",
    ") -> Any:\n",
    "    var_1 = 15\n",
    "    var_2 = \"BRASS\"\n",
    "    var_3 = \"EUROPE\"\n",
    "\n",
    "    region_ds = nw.from_native(region_ds_raw)\n",
    "    nation_ds = nw.from_native(nation_ds_raw)\n",
    "    supplier_ds = nw.from_native(supplier_ds_raw)\n",
    "    part_ds = nw.from_native(part_ds_raw)\n",
    "    part_supp_ds = nw.from_native(part_supp_ds_raw)\n",
    "\n",
    "    result_q2 = (\n",
    "        part_ds.join(part_supp_ds, left_on=\"p_partkey\", right_on=\"ps_partkey\")\n",
    "        .join(supplier_ds, left_on=\"ps_suppkey\", right_on=\"s_suppkey\")\n",
    "        .join(nation_ds, left_on=\"s_nationkey\", right_on=\"n_nationkey\")\n",
    "        .join(region_ds, left_on=\"n_regionkey\", right_on=\"r_regionkey\")\n",
    "        .filter(\n",
    "            nw.col(\"p_size\") == var_1,\n",
    "            nw.col(\"p_type\").str.ends_with(var_2),\n",
    "            nw.col(\"r_name\") == var_3,\n",
    "        )\n",
    "    )\n",
    "\n",
    "    final_cols = [\n",
    "        \"s_acctbal\",\n",
    "        \"s_name\",\n",
    "        \"n_name\",\n",
    "        \"p_partkey\",\n",
    "        \"p_mfgr\",\n",
    "        \"s_address\",\n",
    "        \"s_phone\",\n",
    "        \"s_comment\",\n",
    "    ]\n",
    "\n",
    "    q_final = (\n",
    "        result_q2.group_by(\"p_partkey\")\n",
    "        .agg(nw.min(\"ps_supplycost\").alias(\"ps_supplycost\"))\n",
    "        .join(\n",
    "            result_q2,\n",
    "            left_on=[\"p_partkey\", \"ps_supplycost\"],\n",
    "            right_on=[\"p_partkey\", \"ps_supplycost\"],\n",
    "        )\n",
    "        .select(final_cols)\n",
    "        .sort(\n",
    "            by=[\"s_acctbal\", \"n_name\", \"s_name\", \"p_partkey\"],\n",
    "            descending=[True, False, False, False],\n",
    "        )\n",
    "        .head(100)\n",
    "    )\n",
    "\n",
    "    return nw.to_native(q_final)"
   ]
  },
  {
   "cell_type": "code",
   "execution_count": null,
   "id": "4",
   "metadata": {},
   "outputs": [],
   "source": [
    "from typing import Any\n",
    "from datetime import datetime\n",
    "import ibis\n",
    "\n",
    "def q2_ibis(\n",
    "    region: Any,\n",
    "    nation: Any,\n",
    "    supplier: Any,\n",
    "    part: Any,\n",
    "    partsupp: Any,\n",
    "    *,\n",
    "    tool: str,\n",
    ") -> Any:\n",
    "    var1 = 15\n",
    "    var2 = \"BRASS\"\n",
    "    var3 = \"EUROPE\"\n",
    "\n",
    "    q2 = (\n",
    "        part.join(partsupp, part[\"p_partkey\"] == partsupp[\"ps_partkey\"])\n",
    "        .join(supplier, partsupp[\"ps_suppkey\"] == supplier[\"s_suppkey\"])\n",
    "        .join(nation, supplier[\"s_nationkey\"] == nation[\"n_nationkey\"])\n",
    "        .join(region, nation[\"n_regionkey\"] == region[\"r_regionkey\"])\n",
    "        .filter(ibis._[\"p_size\"] == var1)\n",
    "        .filter(ibis._[\"p_type\"].endswith(var2))\n",
    "        .filter(ibis._[\"r_name\"] == var3)\n",
    "    )\n",
    "\n",
    "    q_final = (\n",
    "        q2.group_by(\"p_partkey\")\n",
    "        .agg(ps_supplycost=ibis._[\"ps_supplycost\"].min())\n",
    "        .join(q2, [\"p_partkey\"])\n",
    "        .select(\n",
    "            \"s_acctbal\",\n",
    "            \"s_name\",\n",
    "            \"n_name\",\n",
    "            \"p_partkey\",\n",
    "            \"p_mfgr\",\n",
    "            \"s_address\",\n",
    "            \"s_phone\",\n",
    "            \"s_comment\",\n",
    "        )\n",
    "        .order_by(ibis.desc(\"s_acctbal\"), \"n_name\", \"s_name\", \"p_partkey\")\n",
    "        .limit(100)\n",
    "    )\n",
    "    if tool == 'pandas':\n",
    "        return q_final.to_pandas()\n",
    "    if tool == 'polars':\n",
    "        return q_final.to_polars()\n",
    "    raise ValueError(\"expected pandas or polars\")"
   ]
  },
  {
   "cell_type": "code",
   "execution_count": null,
   "id": "5",
   "metadata": {
    "papermill": {
     "duration": 0.013325,
     "end_time": "2024-03-22T17:24:39.099766",
     "exception": false,
     "start_time": "2024-03-22T17:24:39.086441",
     "status": "completed"
    },
    "tags": []
   },
   "outputs": [],
   "source": [
    "dir_ = \"/kaggle/input/tpc-h-data-parquet-s-2/\"\n",
    "region = dir_ + 'region.parquet'\n",
    "nation = dir_ + 'nation.parquet'\n",
    "customer = dir_ + 'customer.parquet'\n",
    "lineitem = dir_ + 'lineitem.parquet'\n",
    "orders = dir_ + 'orders.parquet'\n",
    "supplier = dir_ + 'supplier.parquet'\n",
    "part = dir_ + 'part.parquet'\n",
    "partsupp = dir_ + 'partsupp.parquet'"
   ]
  },
  {
   "cell_type": "code",
   "execution_count": null,
   "id": "6",
   "metadata": {
    "papermill": {
     "duration": 0.014284,
     "end_time": "2024-03-22T17:24:39.119737",
     "exception": false,
     "start_time": "2024-03-22T17:24:39.105453",
     "status": "completed"
    },
    "tags": []
   },
   "outputs": [],
   "source": [
    "import ibis\n",
    "\n",
    "con_pd = ibis.pandas.connect()\n",
    "con_pl = ibis.polars.connect()\n",
    "\n",
    "IO_FUNCS = {\n",
    "    'pandas': lambda x: pd.read_parquet(x, engine='pyarrow'),\n",
    "    'pandas[pyarrow]': lambda x: pd.read_parquet(x, engine='pyarrow', dtype_backend='pyarrow'),\n",
    "    'pandas[pyarrow][ibis]': lambda x: con_pd.read_parquet(x, engine='pyarrow', dtype_backend='pyarrow'),\n",
    "    'polars[eager]': lambda x: pl.read_parquet(x),\n",
    "    'polars[lazy]': lambda x: pl.scan_parquet(x),\n",
    "    'polars[lazy][ibis]': lambda x: con_pl.read_parquet(x),\n",
    "}"
   ]
  },
  {
   "cell_type": "code",
   "execution_count": null,
   "id": "7",
   "metadata": {},
   "outputs": [],
   "source": [
    "results = {}"
   ]
  },
  {
   "cell_type": "markdown",
   "id": "8",
   "metadata": {},
   "source": [
    "## pandas, pyarrow dtypes, via ibis"
   ]
  },
  {
   "cell_type": "code",
   "execution_count": null,
   "id": "9",
   "metadata": {},
   "outputs": [],
   "source": [
    "tool = 'pandas[pyarrow][ibis]'\n",
    "fn = IO_FUNCS[tool]\n",
    "timings = %timeit -o q2_ibis(fn(region), fn(nation), fn(supplier), fn(part), fn(partsupp), tool='pandas')\n",
    "results[tool] = timings.all_runs"
   ]
  },
  {
   "cell_type": "markdown",
   "id": "10",
   "metadata": {},
   "source": [
    "## Polars scan_parquet via ibis"
   ]
  },
  {
   "cell_type": "code",
   "execution_count": null,
   "id": "11",
   "metadata": {},
   "outputs": [],
   "source": [
    "tool = 'polars[lazy][ibis]'\n",
    "fn = IO_FUNCS[tool]\n",
    "timings = %timeit -o q2_ibis(fn(region), fn(nation), fn(supplier), fn(part), fn(partsupp), tool='polars')\n",
    "results[tool] = timings.all_runs"
   ]
  },
  {
   "cell_type": "markdown",
   "id": "12",
   "metadata": {},
   "source": [
    "## pandas, pyarrow dtypes, native"
   ]
  },
  {
   "cell_type": "code",
   "execution_count": null,
   "id": "13",
   "metadata": {},
   "outputs": [],
   "source": [
    "tool = 'pandas[pyarrow]'\n",
    "fn = IO_FUNCS[tool]\n",
    "timings = %timeit -o q2_pandas_native(fn(region), fn(nation), fn(supplier), fn(part), fn(partsupp))\n",
    "results[tool+'[native]'] = timings.all_runs"
   ]
  },
  {
   "cell_type": "markdown",
   "id": "14",
   "metadata": {
    "papermill": {
     "duration": 0.005113,
     "end_time": "2024-03-22T17:24:39.130472",
     "exception": false,
     "start_time": "2024-03-22T17:24:39.125359",
     "status": "completed"
    },
    "tags": []
   },
   "source": [
    "## pandas via Narwhals"
   ]
  },
  {
   "cell_type": "code",
   "execution_count": null,
   "id": "15",
   "metadata": {
    "papermill": {
     "duration": 196.786925,
     "end_time": "2024-03-22T17:27:55.922832",
     "exception": false,
     "start_time": "2024-03-22T17:24:39.135907",
     "status": "completed"
    },
    "tags": []
   },
   "outputs": [],
   "source": [
    "tool = 'pandas'\n",
    "fn = IO_FUNCS[tool]\n",
    "timings = %timeit -o q2(fn(region), fn(nation), fn(supplier), fn(part), fn(partsupp))\n",
    "results[tool] = timings.all_runs"
   ]
  },
  {
   "cell_type": "markdown",
   "id": "16",
   "metadata": {
    "papermill": {
     "duration": 0.005184,
     "end_time": "2024-03-22T17:27:55.933407",
     "exception": false,
     "start_time": "2024-03-22T17:27:55.928223",
     "status": "completed"
    },
    "tags": []
   },
   "source": [
    "## pandas, pyarrow dtypes, via Narwhals"
   ]
  },
  {
   "cell_type": "code",
   "execution_count": null,
   "id": "17",
   "metadata": {
    "papermill": {
     "duration": 158.748353,
     "end_time": "2024-03-22T17:30:34.688289",
     "exception": false,
     "start_time": "2024-03-22T17:27:55.939936",
     "status": "completed"
    },
    "tags": []
   },
   "outputs": [],
   "source": [
    "tool = 'pandas[pyarrow]'\n",
    "fn = IO_FUNCS[tool]\n",
    "timings = %timeit -o q2(fn(region), fn(nation), fn(supplier), fn(part), fn(partsupp))\n",
    "results[tool] = timings.all_runs"
   ]
  },
  {
   "cell_type": "markdown",
   "id": "18",
   "metadata": {
    "papermill": {
     "duration": 0.005773,
     "end_time": "2024-03-22T17:30:34.700300",
     "exception": false,
     "start_time": "2024-03-22T17:30:34.694527",
     "status": "completed"
    },
    "tags": []
   },
   "source": [
    "## Polars read_parquet"
   ]
  },
  {
   "cell_type": "code",
   "execution_count": null,
   "id": "19",
   "metadata": {
    "papermill": {
     "duration": 37.821116,
     "end_time": "2024-03-22T17:31:12.527466",
     "exception": false,
     "start_time": "2024-03-22T17:30:34.706350",
     "status": "completed"
    },
    "tags": []
   },
   "outputs": [],
   "source": [
    "tool = 'polars[eager]'\n",
    "fn = IO_FUNCS[tool]\n",
    "timings = %timeit -o q2(fn(region), fn(nation), fn(supplier), fn(part), fn(partsupp))\n",
    "results[tool] = timings.all_runs"
   ]
  },
  {
   "cell_type": "markdown",
   "id": "20",
   "metadata": {
    "papermill": {
     "duration": 0.005515,
     "end_time": "2024-03-22T17:31:12.539068",
     "exception": false,
     "start_time": "2024-03-22T17:31:12.533553",
     "status": "completed"
    },
    "tags": []
   },
   "source": [
    "## Polars scan_parquet"
   ]
  },
  {
   "cell_type": "code",
   "execution_count": null,
   "id": "21",
   "metadata": {
    "papermill": {
     "duration": 4.800698,
     "end_time": "2024-03-22T17:31:17.346813",
     "exception": false,
     "start_time": "2024-03-22T17:31:12.546115",
     "status": "completed"
    },
    "tags": []
   },
   "outputs": [],
   "source": [
    "tool = 'polars[lazy]'\n",
    "fn = IO_FUNCS[tool]\n",
    "timings = %timeit -o q2(fn(region), fn(nation), fn(supplier), fn(part), fn(partsupp)).collect()\n",
    "results[tool] = timings.all_runs"
   ]
  },
  {
   "cell_type": "markdown",
   "id": "22",
   "metadata": {},
   "source": [
    "## Save"
   ]
  },
  {
   "cell_type": "code",
   "execution_count": null,
   "id": "23",
   "metadata": {},
   "outputs": [],
   "source": [
    "import json\n",
    "with open('results.json', 'w') as fd:\n",
    "    json.dump(results, fd)\n"
   ]
  }
 ],
 "metadata": {
  "kaggle": {
   "accelerator": "none",
   "dataSources": [
    {
     "sourceId": 167796716,
     "sourceType": "kernelVersion"
    },
    {
     "sourceId": 167796934,
     "sourceType": "kernelVersion"
    },
    {
     "sourceId": 167796952,
     "sourceType": "kernelVersion"
    },
    {
     "sourceId": 167796969,
     "sourceType": "kernelVersion"
    }
   ],
   "isGpuEnabled": false,
   "isInternetEnabled": true,
   "language": "python",
   "sourceType": "notebook"
  },
  "kernelspec": {
   "display_name": "Python 3",
   "language": "python",
   "name": "python3"
  },
  "language_info": {
   "codemirror_mode": {
    "name": "ipython",
    "version": 3
   },
   "file_extension": ".py",
   "mimetype": "text/x-python",
   "name": "python",
   "nbconvert_exporter": "python",
   "pygments_lexer": "ipython3",
   "version": "3.10.13"
  },
  "papermill": {
   "default_parameters": {},
   "duration": 458.423327,
   "end_time": "2024-03-22T17:31:18.077306",
   "environment_variables": {},
   "exception": null,
   "input_path": "__notebook__.ipynb",
   "output_path": "__notebook__.ipynb",
   "parameters": {},
   "start_time": "2024-03-22T17:23:39.653979",
   "version": "2.5.0"
  }
 },
 "nbformat": 4,
 "nbformat_minor": 5
}
